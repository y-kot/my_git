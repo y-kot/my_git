{
 "cells": [
  {
   "cell_type": "markdown",
   "id": "99d072ce",
   "metadata": {},
   "source": [
    "# СРАВНЕНИЕ СРЕДНИХ ЗНАЧЕНИЙ (T-ТЕСТ)"
   ]
  },
  {
   "cell_type": "markdown",
   "id": "468882a0",
   "metadata": {},
   "source": [
    "## Задание\n",
    "\n",
    "Представьте, что вы работаете аналитиком в очень крупной компании по доставке пиццы над приложением для курьеров (да, обычно в таких компаниях есть приложение для курьеров и отдельно приложение для потребителей).  \n",
    "\n",
    "У вас есть несколько ресторанов в разных частях города и целый штат курьеров. Но есть одна проблема — к вечеру скорость доставки падает из-за того, что курьеры уходят домой после рабочего дня, а количество заказов лишь растет. Это приводит к тому, что в момент пересмены наша доставка очень сильно проседает в эффективности. \n",
    "\n",
    "Наши data scientist-ы придумали новый алгоритм, который позволяет курьерам запланировать свои последние заказы перед окончанием рабочего дня так, чтобы их маршрут доставки совпадал с маршрутом до дома. То есть, чтобы курьеры доставляли последние свои заказы за день как бы \"по пути\" домой. \n",
    "\n",
    "Вы вместе с командой решили раскатить A/B тест на две равные группы курьеров. Часть курьеров использует старый алгоритм без опции \"по пути\", другие видят в своем приложении эту опцию и могут ее выбрать. Ваша задача – проанализировать данные эксперимента и помочь бизнесу принять решение о раскатке новой фичи на всех курьеров.\n",
    "\n",
    "## Описание данных\n",
    "\n",
    "· order_id - id заказа  \n",
    "· delivery_time - время доставки в минутах  \n",
    "· district - район доставки  \n",
    "· experiment_group - экспериментальная группа"
   ]
  },
  {
   "cell_type": "code",
   "execution_count": null,
   "id": "85f456f4",
   "metadata": {},
   "outputs": [],
   "source": [
    "import pandas as pd\n",
    "from scipy import stats\n",
    "import seaborn as sns\n",
    "import matplotlib.pyplot as plt\n",
    "!pip install pingouin\n",
    "experiment = pd.read_csv('experiment_lesson_4.csv')"
   ]
  },
  {
   "cell_type": "code",
   "execution_count": 3,
   "id": "1642de27-34c0-46fb-822a-6c79c7d69953",
   "metadata": {},
   "outputs": [
    {
     "data": {
      "text/plain": [
       "(20196, 4)"
      ]
     },
     "execution_count": 3,
     "metadata": {},
     "output_type": "execute_result"
    }
   ],
   "source": [
    "experiment.shape"
   ]
  },
  {
   "cell_type": "code",
   "execution_count": 2,
   "id": "4b7ff65a",
   "metadata": {},
   "outputs": [
    {
     "data": {
      "text/html": [
       "<div>\n",
       "<style scoped>\n",
       "    .dataframe tbody tr th:only-of-type {\n",
       "        vertical-align: middle;\n",
       "    }\n",
       "\n",
       "    .dataframe tbody tr th {\n",
       "        vertical-align: top;\n",
       "    }\n",
       "\n",
       "    .dataframe thead th {\n",
       "        text-align: right;\n",
       "    }\n",
       "</style>\n",
       "<table border=\"1\" class=\"dataframe\">\n",
       "  <thead>\n",
       "    <tr style=\"text-align: right;\">\n",
       "      <th></th>\n",
       "      <th>order_id</th>\n",
       "      <th>delivery_time</th>\n",
       "      <th>district</th>\n",
       "      <th>experiment_group</th>\n",
       "    </tr>\n",
       "  </thead>\n",
       "  <tbody>\n",
       "    <tr>\n",
       "      <th>0</th>\n",
       "      <td>3159</td>\n",
       "      <td>44.0</td>\n",
       "      <td>Purlieus</td>\n",
       "      <td>control</td>\n",
       "    </tr>\n",
       "    <tr>\n",
       "      <th>1</th>\n",
       "      <td>10426</td>\n",
       "      <td>51.0</td>\n",
       "      <td>Purlieus</td>\n",
       "      <td>control</td>\n",
       "    </tr>\n",
       "    <tr>\n",
       "      <th>2</th>\n",
       "      <td>9155</td>\n",
       "      <td>46.0</td>\n",
       "      <td>Purlieus</td>\n",
       "      <td>control</td>\n",
       "    </tr>\n",
       "    <tr>\n",
       "      <th>3</th>\n",
       "      <td>10699</td>\n",
       "      <td>34.0</td>\n",
       "      <td>Purlieus</td>\n",
       "      <td>control</td>\n",
       "    </tr>\n",
       "    <tr>\n",
       "      <th>4</th>\n",
       "      <td>10061</td>\n",
       "      <td>43.0</td>\n",
       "      <td>Purlieus</td>\n",
       "      <td>control</td>\n",
       "    </tr>\n",
       "  </tbody>\n",
       "</table>\n",
       "</div>"
      ],
      "text/plain": [
       "   order_id  delivery_time  district experiment_group\n",
       "0      3159           44.0  Purlieus          control\n",
       "1     10426           51.0  Purlieus          control\n",
       "2      9155           46.0  Purlieus          control\n",
       "3     10699           34.0  Purlieus          control\n",
       "4     10061           43.0  Purlieus          control"
      ]
     },
     "execution_count": 2,
     "metadata": {},
     "output_type": "execute_result"
    }
   ],
   "source": [
    "experiment.head()"
   ]
  },
  {
   "cell_type": "code",
   "execution_count": 25,
   "id": "6fdee7f9-6a3d-45b3-99e9-30fdbf96e983",
   "metadata": {},
   "outputs": [
    {
     "data": {
      "text/plain": [
       "district\n",
       "Purlieus    16960\n",
       "Central      2396\n",
       "Suburb        840\n",
       "Name: count, dtype: int64"
      ]
     },
     "execution_count": 25,
     "metadata": {},
     "output_type": "execute_result"
    }
   ],
   "source": [
    "exp=experiment[\"district\"].value_counts()\n",
    "exp"
   ]
  },
  {
   "cell_type": "code",
   "execution_count": 3,
   "id": "56733106",
   "metadata": {},
   "outputs": [
    {
     "data": {
      "text/plain": [
       "order_id              int64\n",
       "delivery_time       float64\n",
       "district             object\n",
       "experiment_group     object\n",
       "dtype: object"
      ]
     },
     "execution_count": 3,
     "metadata": {},
     "output_type": "execute_result"
    }
   ],
   "source": [
    "experiment.dtypes"
   ]
  },
  {
   "cell_type": "markdown",
   "id": "7ce5cc1b",
   "metadata": {},
   "source": [
    "### 1"
   ]
  },
  {
   "cell_type": "markdown",
   "id": "b9364df1",
   "metadata": {},
   "source": [
    "Для начала давайте сформулируем гипотезы для проверки. Выберите статистические гипотезы, которые мы сможем проверить в этом эксперименте:\n",
    "\n",
    "· Нулевая гипотеза (H0): Изменение алгоритма не влияет на скорость доставки  \n",
    "__· Альтернативная гипотеза (H1): Разница между средним временем доставки в тестовой и контрольной группе есть__   \n",
    "· Альтернативная гипотеза (H1): Изменение алгоритма влияет на скорость доставки  \n",
    "· Нулевая гипотеза (H0): Разница между средним временем доставки в тестовой и контрольной группе есть  \n",
    "__· Нулевая гипотеза (H0): Разницы между средним временем доставки в тестовой и контрольной группе нет__    \n",
    "· Альтернативная гипотеза (H1): Разницы между средним временем доставки в тестовой и контрольной нет"
   ]
  },
  {
   "cell_type": "markdown",
   "id": "739e133c",
   "metadata": {},
   "source": [
    "### 2"
   ]
  },
  {
   "cell_type": "markdown",
   "id": "18d59e06",
   "metadata": {},
   "source": [
    "Построейте графики распределения **экспериментальных** групп:"
   ]
  },
  {
   "cell_type": "code",
   "execution_count": 48,
   "id": "cec5fa96-0c61-4659-92ba-f684f64f4cc6",
   "metadata": {},
   "outputs": [
    {
     "data": {
      "text/plain": [
       "<Axes: xlabel='delivery_time', ylabel='Count'>"
      ]
     },
     "execution_count": 48,
     "metadata": {},
     "output_type": "execute_result"
    },
    {
     "data": {
      "image/png": "[encoded data removed]",
      "text/plain": [
       "<Figure size 640x480 with 1 Axes>"
      ]
     },
     "metadata": {},
     "output_type": "display_data"
    }
   ],
   "source": [
    "sns.histplot(data=experiment.query('experiment_group == \"control\"'),x='delivery_time', hue='district')"
   ]
  },
  {
   "cell_type": "code",
   "execution_count": 49,
   "id": "0205d40b-c7cd-44ea-b456-563232560d1c",
   "metadata": {},
   "outputs": [
    {
     "data": {
      "text/plain": [
       "<Axes: xlabel='delivery_time', ylabel='Count'>"
      ]
     },
     "execution_count": 49,
     "metadata": {},
     "output_type": "execute_result"
    },
    {
     "data": {
      "image/png": "[encoded data removed]",
      "text/plain": [
       "<Figure size 640x480 with 1 Axes>"
      ]
     },
     "metadata": {},
     "output_type": "display_data"
    }
   ],
   "source": [
    "sns.histplot(data=experiment.query('experiment_group == \"test\"'),x='delivery_time', hue='district')"
   ]
  },
  {
   "cell_type": "markdown",
   "id": "f161ffde",
   "metadata": {},
   "source": [
    "### 3"
   ]
  },
  {
   "cell_type": "markdown",
   "id": "55e01899",
   "metadata": {},
   "source": [
    "Посчитайте количество наблюдений в тестовой и контрольной группе. На сколько по модулю отличается количество наблюдений в тесте и контроле?"
   ]
  },
  {
   "cell_type": "code",
   "execution_count": 64,
   "id": "4aa38558-b545-4140-ab0b-ece121a57eb5",
   "metadata": {},
   "outputs": [
    {
     "data": {
      "text/html": [
       "<div>\n",
       "<style scoped>\n",
       "    .dataframe tbody tr th:only-of-type {\n",
       "        vertical-align: middle;\n",
       "    }\n",
       "\n",
       "    .dataframe tbody tr th {\n",
       "        vertical-align: top;\n",
       "    }\n",
       "\n",
       "    .dataframe thead th {\n",
       "        text-align: right;\n",
       "    }\n",
       "</style>\n",
       "<table border=\"1\" class=\"dataframe\">\n",
       "  <thead>\n",
       "    <tr style=\"text-align: right;\">\n",
       "      <th></th>\n",
       "      <th>experiment_group</th>\n",
       "      <th>order_id</th>\n",
       "    </tr>\n",
       "  </thead>\n",
       "  <tbody>\n",
       "    <tr>\n",
       "      <th>0</th>\n",
       "      <td>control</td>\n",
       "      <td>10092</td>\n",
       "    </tr>\n",
       "    <tr>\n",
       "      <th>1</th>\n",
       "      <td>test</td>\n",
       "      <td>10104</td>\n",
       "    </tr>\n",
       "  </tbody>\n",
       "</table>\n",
       "</div>"
      ],
      "text/plain": [
       "  experiment_group  order_id\n",
       "0          control     10092\n",
       "1             test     10104"
      ]
     },
     "execution_count": 64,
     "metadata": {},
     "output_type": "execute_result"
    }
   ],
   "source": [
    "data=experiment.groupby(\"experiment_group\")[\"order_id\"].count()\n",
    "data=data.reset_index()\n",
    "data"
   ]
  },
  {
   "cell_type": "code",
   "execution_count": 65,
   "id": "c703c439-3ad2-4e37-8240-1b3847db96f2",
   "metadata": {},
   "outputs": [
    {
     "data": {
      "text/plain": [
       "order_id    12\n",
       "dtype: object"
      ]
     },
     "execution_count": 65,
     "metadata": {},
     "output_type": "execute_result"
    }
   ],
   "source": [
    "data.loc[1,[\"order_id\"]]-data.loc[0,[\"order_id\"]]"
   ]
  },
  {
   "cell_type": "markdown",
   "id": "c8ae196f",
   "metadata": {},
   "source": [
    "### 4"
   ]
  },
  {
   "cell_type": "markdown",
   "id": "b999f984",
   "metadata": {},
   "source": [
    "Теперь давайте изучим наши распределения. Проверим выполнение условий на нормальность и посчитаем стандартное отклонение в тесте и в контроле.\n",
    "\n",
    "Обязательно сделайте семплирование перед применением критерия при проверке на нормальность (и для теста, и для контроля), так как на больших выборках вы можете получать неверные результаты."
   ]
  },
  {
   "cell_type": "markdown",
   "id": "14b5b2cf",
   "metadata": {},
   "source": [
    "Для того, чтобы проверить нормальность распределения, используем __SHAPIRO-WILK TEST__. Этот тест показывает, что значения в тестовой группе распределены \n",
    "__НОРМАЛЬНО__. В контрольной группе распределение является __НОРМАЛЬНЫМ__. Стандартное отклонение времени доставки в тесте равно (округлите до сотых) __9.88__. Стандартное отклонение времени доставки в контроле равно (округлите до сотых) \n",
    "__9.99__."
   ]
  },
  {
   "cell_type": "code",
   "execution_count": 70,
   "id": "dcebe1b4-f486-4e4b-9c7b-e13dda2f620c",
   "metadata": {},
   "outputs": [],
   "source": [
    "import pingouin as pg"
   ]
  },
  {
   "cell_type": "code",
   "execution_count": 71,
   "id": "98d9b82c-947e-432c-ae56-d248b9d1f08d",
   "metadata": {},
   "outputs": [
    {
     "name": "stderr",
     "output_type": "stream",
     "text": [
      "C:\\Users\\konst\\.conda\\envs\\Project_one\\Lib\\site-packages\\scipy\\stats\\_axis_nan_policy.py:531: UserWarning: scipy.stats.shapiro: For N > 5000, computed p-value may not be accurate. Current N is 10092.\n",
      "  res = hypotest_fun_out(*samples, **kwds)\n",
      "C:\\Users\\konst\\.conda\\envs\\Project_one\\Lib\\site-packages\\scipy\\stats\\_axis_nan_policy.py:531: UserWarning: scipy.stats.shapiro: For N > 5000, computed p-value may not be accurate. Current N is 10104.\n",
      "  res = hypotest_fun_out(*samples, **kwds)\n"
     ]
    },
    {
     "data": {
      "text/html": [
       "<div>\n",
       "<style scoped>\n",
       "    .dataframe tbody tr th:only-of-type {\n",
       "        vertical-align: middle;\n",
       "    }\n",
       "\n",
       "    .dataframe tbody tr th {\n",
       "        vertical-align: top;\n",
       "    }\n",
       "\n",
       "    .dataframe thead th {\n",
       "        text-align: right;\n",
       "    }\n",
       "</style>\n",
       "<table border=\"1\" class=\"dataframe\">\n",
       "  <thead>\n",
       "    <tr style=\"text-align: right;\">\n",
       "      <th></th>\n",
       "      <th>W</th>\n",
       "      <th>pval</th>\n",
       "      <th>normal</th>\n",
       "    </tr>\n",
       "    <tr>\n",
       "      <th>experiment_group</th>\n",
       "      <th></th>\n",
       "      <th></th>\n",
       "      <th></th>\n",
       "    </tr>\n",
       "  </thead>\n",
       "  <tbody>\n",
       "    <tr>\n",
       "      <th>control</th>\n",
       "      <td>0.998709</td>\n",
       "      <td>2.809902e-07</td>\n",
       "      <td>False</td>\n",
       "    </tr>\n",
       "    <tr>\n",
       "      <th>test</th>\n",
       "      <td>0.998619</td>\n",
       "      <td>1.073905e-07</td>\n",
       "      <td>False</td>\n",
       "    </tr>\n",
       "  </tbody>\n",
       "</table>\n",
       "</div>"
      ],
      "text/plain": [
       "                         W          pval  normal\n",
       "experiment_group                                \n",
       "control           0.998709  2.809902e-07   False\n",
       "test              0.998619  1.073905e-07   False"
      ]
     },
     "execution_count": 71,
     "metadata": {},
     "output_type": "execute_result"
    }
   ],
   "source": [
    "pg.normality(data=experiment, dv=\"delivery_time\", group='experiment_group')"
   ]
  },
  {
   "cell_type": "code",
   "execution_count": 72,
   "id": "b6dc9df6-78c2-4c6d-83b3-bf8dfe54021a",
   "metadata": {},
   "outputs": [
    {
     "data": {
      "text/html": [
       "<div>\n",
       "<style scoped>\n",
       "    .dataframe tbody tr th:only-of-type {\n",
       "        vertical-align: middle;\n",
       "    }\n",
       "\n",
       "    .dataframe tbody tr th {\n",
       "        vertical-align: top;\n",
       "    }\n",
       "\n",
       "    .dataframe thead th {\n",
       "        text-align: right;\n",
       "    }\n",
       "</style>\n",
       "<table border=\"1\" class=\"dataframe\">\n",
       "  <thead>\n",
       "    <tr style=\"text-align: right;\">\n",
       "      <th></th>\n",
       "      <th>W</th>\n",
       "      <th>pval</th>\n",
       "      <th>normal</th>\n",
       "    </tr>\n",
       "    <tr>\n",
       "      <th>experiment_group</th>\n",
       "      <th></th>\n",
       "      <th></th>\n",
       "      <th></th>\n",
       "    </tr>\n",
       "  </thead>\n",
       "  <tbody>\n",
       "    <tr>\n",
       "      <th>control</th>\n",
       "      <td>0.253498</td>\n",
       "      <td>0.880955</td>\n",
       "      <td>True</td>\n",
       "    </tr>\n",
       "    <tr>\n",
       "      <th>test</th>\n",
       "      <td>7.024157</td>\n",
       "      <td>0.029835</td>\n",
       "      <td>False</td>\n",
       "    </tr>\n",
       "  </tbody>\n",
       "</table>\n",
       "</div>"
      ],
      "text/plain": [
       "                         W      pval  normal\n",
       "experiment_group                            \n",
       "control           0.253498  0.880955    True\n",
       "test              7.024157  0.029835   False"
      ]
     },
     "execution_count": 72,
     "metadata": {},
     "output_type": "execute_result"
    }
   ],
   "source": [
    "pg.normality(data=experiment, dv=\"delivery_time\", group='experiment_group',method=\"normaltest\")"
   ]
  },
  {
   "cell_type": "markdown",
   "id": "d0d22b6a-166a-4591-820f-3f9d4b245b6c",
   "metadata": {},
   "source": [
    "1)Для контрольной группы Тест1 Shapiro-Wilk показвл p-value> 0,05  значит распределение является нормальным\n",
    "2)Для тестовой группы проверим выборочно"
   ]
  },
  {
   "cell_type": "code",
   "execution_count": 108,
   "id": "cb9566b8",
   "metadata": {},
   "outputs": [
    {
     "data": {
      "text/plain": [
       "ShapiroResult(statistic=0.9973356261813772, pvalue=0.09933863039761806)"
      ]
     },
     "execution_count": 108,
     "metadata": {},
     "output_type": "execute_result"
    }
   ],
   "source": [
    "stats.shapiro(experiment.query('experiment_group == \"test\"')['delivery_time'].sample(1000, random_state=1)) #1 - чтобы каждый раз выборка была одинакова"
   ]
  },
  {
   "cell_type": "code",
   "execution_count": 95,
   "id": "a702bf39-f3ba-4796-8aae-6346534fce43",
   "metadata": {},
   "outputs": [
    {
     "data": {
      "text/plain": [
       "<Axes: ylabel='Count'>"
      ]
     },
     "execution_count": 95,
     "metadata": {},
     "output_type": "execute_result"
    },
    {
     "data": {
      "image/png": "[encoded data removed]",
      "text/plain": [
       "<Figure size 640x480 with 1 Axes>"
      ]
     },
     "metadata": {},
     "output_type": "display_data"
    }
   ],
   "source": [
    "p_values=[]\n",
    "for _ in range(1000):\n",
    "    res=stats.shapiro(experiment.query('experiment_group == \"test\"')['delivery_time'].sample(1000))\n",
    "    p_values.append(res.pvalue)\n",
    "sns.histplot(x=p_values)"
   ]
  },
  {
   "cell_type": "code",
   "execution_count": 97,
   "id": "a7a7bb48-d66d-4c5c-9e5a-c9f6d1e11f3e",
   "metadata": {},
   "outputs": [
    {
     "data": {
      "text/plain": [
       "0.275"
      ]
     },
     "execution_count": 97,
     "metadata": {},
     "output_type": "execute_result"
    }
   ],
   "source": [
    "h = np.array(p_values)\n",
    "len(h[h<0.05])/len(h) "
   ]
  },
  {
   "cell_type": "code",
   "execution_count": 99,
   "id": "79c7d138-4fba-4893-b4c1-3c700cf2f642",
   "metadata": {},
   "outputs": [
    {
     "data": {
      "text/plain": [
       "<Axes: xlabel='Theoretical quantiles', ylabel='Ordered quantiles'>"
      ]
     },
     "execution_count": 99,
     "metadata": {},
     "output_type": "execute_result"
    },
    {
     "data": {
      "image/png": "[encoded data removed]",
      "text/plain": [
       "<Figure size 640x480 with 1 Axes>"
      ]
     },
     "metadata": {},
     "output_type": "display_data"
    }
   ],
   "source": [
    "pg.qqplot(experiment.query('experiment_group == \"test\"')['delivery_time'])"
   ]
  },
  {
   "cell_type": "code",
   "execution_count": 28,
   "id": "5722de1b",
   "metadata": {},
   "outputs": [
    {
     "data": {
      "text/plain": [
       "9.88"
      ]
     },
     "execution_count": 28,
     "metadata": {},
     "output_type": "execute_result"
    }
   ],
   "source": [
    "round((experiment.query('experiment_group == \"test\"').delivery_time.std()), 2)"
   ]
  },
  {
   "cell_type": "code",
   "execution_count": 29,
   "id": "341c8509",
   "metadata": {},
   "outputs": [
    {
     "data": {
      "text/plain": [
       "9.99"
      ]
     },
     "execution_count": 29,
     "metadata": {},
     "output_type": "execute_result"
    }
   ],
   "source": [
    "round((experiment.query('experiment_group == \"control\"').delivery_time.std()), 2)"
   ]
  },
  {
   "cell_type": "markdown",
   "id": "5d8e26a8",
   "metadata": {},
   "source": [
    "__Зачем нам нужен был метод .sample()?__\n",
    "\n",
    "Чувствительность любого теста зависит от размера выборки. Это касается и теста Шапиро-Уилка - на больших выборках он детектирует даже самые незначительные отклонения от нормальности. Поэтому мы берём случайные 1000 значений из выборки, чтобы обойти этот недостаток.\n",
    "\n",
    "Есть шанс, что случайные 1000 значений всё же сформируют ненормальное распределение, поэтому рекомендуем использовать аргумент random_state=17 для стабильности и воспроизводимости результатов."
   ]
  },
  {
   "cell_type": "markdown",
   "id": "3328092f",
   "metadata": {},
   "source": [
    "__Какова нулевая гипотеза теста Шапиро-Уилка?__\n",
    "\n",
    "Что распределение нормальное. "
   ]
  },
  {
   "cell_type": "markdown",
   "id": "b226c09f",
   "metadata": {},
   "source": [
    "### 5"
   ]
  },
  {
   "cell_type": "markdown",
   "id": "cd8dbb6d",
   "metadata": {},
   "source": [
    "Пришло время **сравнить средние в тесте и контроле**. Внимание: здесь уже не нужно пользоваться методом sample() — он нам нужен был только для теста Шапиро-Уилка, остальные тесты надо проводить на полных данных."
   ]
  },
  {
   "cell_type": "markdown",
   "id": "978bafa3",
   "metadata": {},
   "source": [
    "Для сравнения средних в данных экспериментальных группах используем 2ух выборочный __STUDENT'S T-TEST__. \n",
    "Статистика в тесте равна (округлите до целого) \n",
    "__-43__, p-value __<= 0.05__. Группы статистически значимо различаются."
   ]
  },
  {
   "cell_type": "code",
   "execution_count": 103,
   "id": "879114bf",
   "metadata": {},
   "outputs": [
    {
     "name": "stdout",
     "output_type": "stream",
     "text": [
      "T-statistic: -43.03582663183714, P-value: 0.0\n"
     ]
    }
   ],
   "source": [
    "t_stat, p_value = stats.ttest_ind(experiment.query('experiment_group == \"test\"')['delivery_time'], \\\n",
    "                experiment.query('experiment_group == \"control\"')['delivery_time'])\n",
    "print(f\"T-statistic: {t_stat}, P-value: {p_value}\")"
   ]
  },
  {
   "cell_type": "markdown",
   "id": "a77b5daa",
   "metadata": {},
   "source": [
    "### 6"
   ]
  },
  {
   "cell_type": "markdown",
   "id": "639724f0",
   "metadata": {},
   "source": [
    "На сколько процентов изменилось среднее время доставки в тестовой группе по сравнению с контрольной (округлите до сотых)? "
   ]
  },
  {
   "cell_type": "code",
   "execution_count": 104,
   "id": "b74cd82c",
   "metadata": {},
   "outputs": [],
   "source": [
    "test_mean = experiment.query('experiment_group == \"test\"')['delivery_time'].mean()\n",
    "control_mean = experiment.query('experiment_group == \"control\"')['delivery_time'].mean()"
   ]
  },
  {
   "cell_type": "code",
   "execution_count": 105,
   "id": "0c670d16",
   "metadata": {},
   "outputs": [
    {
     "data": {
      "text/plain": [
       "-13.35"
      ]
     },
     "execution_count": 105,
     "metadata": {},
     "output_type": "execute_result"
    }
   ],
   "source": [
    "perc = (test_mean - control_mean) / control_mean * 100\n",
    "round(perc, 2)"
   ]
  },
  {
   "cell_type": "markdown",
   "id": "25af0f03",
   "metadata": {},
   "source": [
    "### 7"
   ]
  },
  {
   "cell_type": "markdown",
   "id": "1a16411b",
   "metadata": {},
   "source": [
    "Что в итоге? Катим? "
   ]
  },
  {
   "cell_type": "markdown",
   "id": "0ea9e17a",
   "metadata": {},
   "source": [
    "· Да, раскатываем на всех, новый алгоритм напрямую влияет на скорость доставки.  \n",
    "· Да, раскатываем новый алгоритм на всех, так как среднее время доставки статистически значимо изменилось. Среднее время доставки в тесте больше, чем в контроле.  \n",
    "· Не катим, так как среднее время доставки статистически значимо не изменилось.  \n",
    "__· Да, раскатываем новый алгоритм на всех, так как среднее время доставки статистически значимо изменилось. Среднее время доставки в тесте меньше, чем в контроле.__"
   ]
  }
 ],
 "metadata": {
  "kernelspec": {
   "display_name": "Python 3 (ipykernel)",
   "language": "python",
   "name": "python3"
  },
  "language_info": {
   "codemirror_mode": {
    "name": "ipython",
    "version": 3
   },
   "file_extension": ".py",
   "mimetype": "text/x-python",
   "name": "python",
   "nbconvert_exporter": "python",
   "pygments_lexer": "ipython3",
   "version": "3.11.9"
  }
 },
 "nbformat": 4,
 "nbformat_minor": 5
}
