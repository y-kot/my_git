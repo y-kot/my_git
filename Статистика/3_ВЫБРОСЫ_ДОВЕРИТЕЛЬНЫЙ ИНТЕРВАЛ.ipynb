{
 "cells": [
  {
   "cell_type": "markdown",
   "id": "3b79cb2c",
   "metadata": {},
   "source": [
    "# СТАТИСТИЧЕСКИЙ ВЫВОД"
   ]
  },
  {
   "cell_type": "markdown",
   "id": "82180612",
   "metadata": {},
   "source": [
    "Представьте, что вы работаете аналитиком в компании, которая занимается арендой велосипедов. Коллега из офиса в Лондоне прислал вам данные за два года: с 4 января 2015 по 3 января 2017. Вам предстоит изучить динамику числа аренд, наличие связи с погодными условиями и выходными, а также объяснить несколько аномалий на графике.\n",
    "\n",
    "## Задания  \n",
    "\n",
    "1. Загрузите данные, проверьте число наблюдений и столбцов, наличие пропусков. Убедитесь, что типы данных были прочитаны правильно. При необходимости – приведите переменные к нужным типам.  \n",
    "2. Постройте график по числу поездок по дате и времени.    \n",
    "3. Преобразуйте данные и посчитайте число поездок по дням. Визуализируйте результат.  \n",
    "4. Используйте агрегированные данные по дням и посчитайте скользящее среднее с окном 3. В качестве ответа укажите полученное число аренд за 2015-07-09, округлив значение до целого.  \n",
    "5. Посчитайте разницу между наблюдаемыми и значениями, подсчитанными с помощью скользящего среднего. Далее – найдите стандартное отклонение.  \n",
    "6. Определите границы 99% доверительного интервала, добавьте данную информацию в датафрейм.  \n",
    "7. Изучите аномально высокие значения и укажите день, когда число аренд было наибольшим. Найдите причину данной аномалии.  \n",
    "8. Изучите аномально низкие значения, найдите день с наименьшим числом аренд. Найдите причину данной аномалии.   \n",
    "\n",
    "## Описание данных  \n",
    "\n",
    "· timestamp – дата и время (точность до часа)  \n",
    "· cnt – количество аренд велосипедов за этот час  \n",
    "· t1 – температура, в С  \n",
    "· t2 – температура \"ощущается как\", в С   \n",
    "· hum – влажность (%)  \n",
    "· wind_speed – скорость ветра, км/ч  \n",
    "· weather_code – погодные условия:  \n",
    "1 – ясно (SKC)    \n",
    "2 – преимущественно ясно / встречаются отдельные облака (SCT)  \n",
    "3 – облачно / значительные облака (BKN)  \n",
    "4 – пасмурно (OVC)  \n",
    "7 – небольшой дождь Rain/ light Rain shower/ Light rain   \n",
    "10 – дождь с грозой  \n",
    "26 – снегопад   \n",
    "94 – ледяной туман (да, такое бывает!)    \n",
    "· isholiday – является ли день праздником (1 – праздник, 0 – нет)  \n",
    "· isweekend –  является ли день выходным (1 – выходной, 0 – нет)  \n",
    "· season – метеорологический сезон (0 – весна, 1 – лето, 2 – осень, 3 – зима)"
   ]
  },
  {
   "cell_type": "markdown",
   "id": "eb45c438",
   "metadata": {},
   "source": [
    "### 1"
   ]
  },
  {
   "cell_type": "markdown",
   "id": "a61cba4d",
   "metadata": {},
   "source": [
    "Загрузите данные, проверьте число наблюдений и столбцов, наличие пропусков. Убедитесь, что типы данных были прочитаны правильно. При необходимости – приведите переменные к нужным типам.\n",
    "\n",
    "Есть ли в данных пропущенные значения?"
   ]
  },
  {
   "cell_type": "markdown",
   "id": "d4cc47d0",
   "metadata": {},
   "source": [
    "· Да, но совсем немного  \n",
    "__· Нет__  \n",
    "· Да, во многих  "
   ]
  },
  {
   "cell_type": "code",
   "execution_count": 52,
   "id": "2dd2608a",
   "metadata": {},
   "outputs": [],
   "source": [
    "import pandas as pd\n",
    "import numpy as np\n",
    "import scipy.stats as st\n",
    "import seaborn as sns\n",
    "import matplotlib.pyplot as plt\n",
    "\n",
    "sns.set(rc={'figure.figsize':(9,4)}, style='whitegrid')"
   ]
  },
  {
   "cell_type": "code",
   "execution_count": null,
   "id": "02e651bc-a729-4181-8288-a92e32e37348",
   "metadata": {},
   "outputs": [],
   "source": [
    "#https://newtechaudit.ru/gruzi-daty-krasivo/"
   ]
  },
  {
   "cell_type": "code",
   "execution_count": 22,
   "id": "93fa2a04",
   "metadata": {},
   "outputs": [],
   "source": [
    "df = pd.read_csv('london3.csv', parse_dates=['timestamp'])"
   ]
  },
  {
   "cell_type": "code",
   "execution_count": 6,
   "id": "28aacda3",
   "metadata": {},
   "outputs": [
    {
     "data": {
      "text/html": [
       "<div>\n",
       "<style scoped>\n",
       "    .dataframe tbody tr th:only-of-type {\n",
       "        vertical-align: middle;\n",
       "    }\n",
       "\n",
       "    .dataframe tbody tr th {\n",
       "        vertical-align: top;\n",
       "    }\n",
       "\n",
       "    .dataframe thead th {\n",
       "        text-align: right;\n",
       "    }\n",
       "</style>\n",
       "<table border=\"1\" class=\"dataframe\">\n",
       "  <thead>\n",
       "    <tr style=\"text-align: right;\">\n",
       "      <th></th>\n",
       "      <th>timestamp</th>\n",
       "      <th>cnt</th>\n",
       "      <th>t1</th>\n",
       "      <th>t2</th>\n",
       "      <th>hum</th>\n",
       "      <th>wind_speed</th>\n",
       "      <th>weather_code</th>\n",
       "      <th>is_holiday</th>\n",
       "      <th>is_weekend</th>\n",
       "      <th>season</th>\n",
       "    </tr>\n",
       "  </thead>\n",
       "  <tbody>\n",
       "    <tr>\n",
       "      <th>0</th>\n",
       "      <td>2015-01-04 00:00:00</td>\n",
       "      <td>182</td>\n",
       "      <td>3.0</td>\n",
       "      <td>2.0</td>\n",
       "      <td>93.0</td>\n",
       "      <td>6.0</td>\n",
       "      <td>3.0</td>\n",
       "      <td>0.0</td>\n",
       "      <td>1.0</td>\n",
       "      <td>3.0</td>\n",
       "    </tr>\n",
       "    <tr>\n",
       "      <th>1</th>\n",
       "      <td>2015-01-04 01:00:00</td>\n",
       "      <td>138</td>\n",
       "      <td>3.0</td>\n",
       "      <td>2.5</td>\n",
       "      <td>93.0</td>\n",
       "      <td>5.0</td>\n",
       "      <td>1.0</td>\n",
       "      <td>0.0</td>\n",
       "      <td>1.0</td>\n",
       "      <td>3.0</td>\n",
       "    </tr>\n",
       "    <tr>\n",
       "      <th>2</th>\n",
       "      <td>2015-01-04 02:00:00</td>\n",
       "      <td>134</td>\n",
       "      <td>2.5</td>\n",
       "      <td>2.5</td>\n",
       "      <td>96.5</td>\n",
       "      <td>0.0</td>\n",
       "      <td>1.0</td>\n",
       "      <td>0.0</td>\n",
       "      <td>1.0</td>\n",
       "      <td>3.0</td>\n",
       "    </tr>\n",
       "    <tr>\n",
       "      <th>3</th>\n",
       "      <td>2015-01-04 03:00:00</td>\n",
       "      <td>72</td>\n",
       "      <td>2.0</td>\n",
       "      <td>2.0</td>\n",
       "      <td>100.0</td>\n",
       "      <td>0.0</td>\n",
       "      <td>1.0</td>\n",
       "      <td>0.0</td>\n",
       "      <td>1.0</td>\n",
       "      <td>3.0</td>\n",
       "    </tr>\n",
       "    <tr>\n",
       "      <th>4</th>\n",
       "      <td>2015-01-04 04:00:00</td>\n",
       "      <td>47</td>\n",
       "      <td>2.0</td>\n",
       "      <td>0.0</td>\n",
       "      <td>93.0</td>\n",
       "      <td>6.5</td>\n",
       "      <td>1.0</td>\n",
       "      <td>0.0</td>\n",
       "      <td>1.0</td>\n",
       "      <td>3.0</td>\n",
       "    </tr>\n",
       "  </tbody>\n",
       "</table>\n",
       "</div>"
      ],
      "text/plain": [
       "            timestamp  cnt   t1   t2    hum  wind_speed  weather_code  \\\n",
       "0 2015-01-04 00:00:00  182  3.0  2.0   93.0         6.0           3.0   \n",
       "1 2015-01-04 01:00:00  138  3.0  2.5   93.0         5.0           1.0   \n",
       "2 2015-01-04 02:00:00  134  2.5  2.5   96.5         0.0           1.0   \n",
       "3 2015-01-04 03:00:00   72  2.0  2.0  100.0         0.0           1.0   \n",
       "4 2015-01-04 04:00:00   47  2.0  0.0   93.0         6.5           1.0   \n",
       "\n",
       "   is_holiday  is_weekend  season  \n",
       "0         0.0         1.0     3.0  \n",
       "1         0.0         1.0     3.0  \n",
       "2         0.0         1.0     3.0  \n",
       "3         0.0         1.0     3.0  \n",
       "4         0.0         1.0     3.0  "
      ]
     },
     "execution_count": 6,
     "metadata": {},
     "output_type": "execute_result"
    }
   ],
   "source": [
    "df.head()"
   ]
  },
  {
   "cell_type": "code",
   "execution_count": 8,
   "id": "f3e47cd2-aa30-4adb-82ee-b2dac9a6729d",
   "metadata": {},
   "outputs": [
    {
     "data": {
      "text/plain": [
       "(17414, 10)"
      ]
     },
     "execution_count": 8,
     "metadata": {},
     "output_type": "execute_result"
    }
   ],
   "source": [
    "df.shape"
   ]
  },
  {
   "cell_type": "code",
   "execution_count": 7,
   "id": "b584d1c3",
   "metadata": {},
   "outputs": [
    {
     "data": {
      "text/plain": [
       "timestamp       datetime64[ns]\n",
       "cnt                      int64\n",
       "t1                     float64\n",
       "t2                     float64\n",
       "hum                    float64\n",
       "wind_speed             float64\n",
       "weather_code           float64\n",
       "is_holiday             float64\n",
       "is_weekend             float64\n",
       "season                 float64\n",
       "dtype: object"
      ]
     },
     "execution_count": 7,
     "metadata": {},
     "output_type": "execute_result"
    }
   ],
   "source": [
    "df.dtypes"
   ]
  },
  {
   "cell_type": "code",
   "execution_count": 8,
   "id": "ef7feca3",
   "metadata": {},
   "outputs": [
    {
     "data": {
      "text/plain": [
       "timestamp       0\n",
       "cnt             0\n",
       "t1              0\n",
       "t2              0\n",
       "hum             0\n",
       "wind_speed      0\n",
       "weather_code    0\n",
       "is_holiday      0\n",
       "is_weekend      0\n",
       "season          0\n",
       "dtype: int64"
      ]
     },
     "execution_count": 8,
     "metadata": {},
     "output_type": "execute_result"
    }
   ],
   "source": [
    "df.isna().sum()"
   ]
  },
  {
   "cell_type": "markdown",
   "id": "c880d640",
   "metadata": {},
   "source": [
    "### 2"
   ]
  },
  {
   "cell_type": "markdown",
   "id": "ed961e46",
   "metadata": {},
   "source": [
    "Для начала попробуем посмотреть на число поездок по датам и времени. Постройте график, где:\n",
    "\n",
    "по оси x – дата (timestamp)\n",
    "по оси y – число поездок (cnt)\n",
    "Выберите верные утверждения:\n",
    "\n",
    "__· Очень сложно что-то понять, нужно преобразовать данные, чтобы увидеть тренды__  \n",
    "· Случались только аномальные скачки вверх, вниз ничего не падало  \n",
    "· В выходные поездок точно меньше, чем в будние дни    \n"
   ]
  },
  {
   "cell_type": "code",
   "execution_count": 53,
   "id": "b1fc077e",
   "metadata": {},
   "outputs": [
    {
     "data": {
      "text/plain": [
       "<Axes: xlabel='timestamp', ylabel='cnt'>"
      ]
     },
     "execution_count": 53,
     "metadata": {},
     "output_type": "execute_result"
    },
    {
     "data": {
      "image/png": "[encoded data removed]",
      "text/plain": [
       "<Figure size 900x400 with 1 Axes>"
      ]
     },
     "metadata": {},
     "output_type": "display_data"
    }
   ],
   "source": [
    "sns.lineplot(x=df['timestamp'], y=df['cnt'])"
   ]
  },
  {
   "cell_type": "markdown",
   "id": "c3102eee",
   "metadata": {},
   "source": [
    "### 3"
   ]
  },
  {
   "cell_type": "markdown",
   "id": "c254e4f4",
   "metadata": {},
   "source": [
    "Предположим, что данные действительно нужно немного преобразовать. В этом нам поможет resample, с которым вы могли столкнуться в дополнительных темах pandas. Этот метод позволяет преобразовать данные и применить к какому-либо столбцу другой метод (напр. sum). Так можно рассчитать показатели, например, за весь день или месяц, имея данные с точностью до минут.\n",
    "\n",
    "Агрегируйте число поездок по дням и визуализируйте результат. Что вы можете сказать о полученном графике?\n",
    "\n",
    "· Максимальное число аренд за день – более 1 000 000  \n",
    "· Встречаются только резкие скачки вверх  \n",
    "__· Зимой число аренд меньше, чем летом__    \n",
    "· Число аренд зимой и летом никак не различается  \n",
    "· Максимальное число аренд за день не превышало 8 000  \n",
    "__· Максимальное число аренд за день составляет более 70 000__    \n",
    "__· Встречаются как очень резкие скачки числа аренд, так и падения__  "
   ]
  },
  {
   "cell_type": "code",
   "execution_count": 23,
   "id": "5c6d1dcb",
   "metadata": {},
   "outputs": [
    {
     "data": {
      "text/html": [
       "<div>\n",
       "<style scoped>\n",
       "    .dataframe tbody tr th:only-of-type {\n",
       "        vertical-align: middle;\n",
       "    }\n",
       "\n",
       "    .dataframe tbody tr th {\n",
       "        vertical-align: top;\n",
       "    }\n",
       "\n",
       "    .dataframe thead th {\n",
       "        text-align: right;\n",
       "    }\n",
       "</style>\n",
       "<table border=\"1\" class=\"dataframe\">\n",
       "  <thead>\n",
       "    <tr style=\"text-align: right;\">\n",
       "      <th></th>\n",
       "      <th>timestamp</th>\n",
       "      <th>cnt</th>\n",
       "      <th>t1</th>\n",
       "      <th>t2</th>\n",
       "      <th>hum</th>\n",
       "      <th>wind_speed</th>\n",
       "      <th>weather_code</th>\n",
       "      <th>is_holiday</th>\n",
       "      <th>is_weekend</th>\n",
       "      <th>season</th>\n",
       "    </tr>\n",
       "    <tr>\n",
       "      <th>timestamp</th>\n",
       "      <th></th>\n",
       "      <th></th>\n",
       "      <th></th>\n",
       "      <th></th>\n",
       "      <th></th>\n",
       "      <th></th>\n",
       "      <th></th>\n",
       "      <th></th>\n",
       "      <th></th>\n",
       "      <th></th>\n",
       "    </tr>\n",
       "  </thead>\n",
       "  <tbody>\n",
       "    <tr>\n",
       "      <th>2015-01-04 00:00:00</th>\n",
       "      <td>2015-01-04 00:00:00</td>\n",
       "      <td>182</td>\n",
       "      <td>3.0</td>\n",
       "      <td>2.0</td>\n",
       "      <td>93.0</td>\n",
       "      <td>6.0</td>\n",
       "      <td>3.0</td>\n",
       "      <td>0.0</td>\n",
       "      <td>1.0</td>\n",
       "      <td>3.0</td>\n",
       "    </tr>\n",
       "    <tr>\n",
       "      <th>2015-01-04 01:00:00</th>\n",
       "      <td>2015-01-04 01:00:00</td>\n",
       "      <td>138</td>\n",
       "      <td>3.0</td>\n",
       "      <td>2.5</td>\n",
       "      <td>93.0</td>\n",
       "      <td>5.0</td>\n",
       "      <td>1.0</td>\n",
       "      <td>0.0</td>\n",
       "      <td>1.0</td>\n",
       "      <td>3.0</td>\n",
       "    </tr>\n",
       "    <tr>\n",
       "      <th>2015-01-04 02:00:00</th>\n",
       "      <td>2015-01-04 02:00:00</td>\n",
       "      <td>134</td>\n",
       "      <td>2.5</td>\n",
       "      <td>2.5</td>\n",
       "      <td>96.5</td>\n",
       "      <td>0.0</td>\n",
       "      <td>1.0</td>\n",
       "      <td>0.0</td>\n",
       "      <td>1.0</td>\n",
       "      <td>3.0</td>\n",
       "    </tr>\n",
       "    <tr>\n",
       "      <th>2015-01-04 03:00:00</th>\n",
       "      <td>2015-01-04 03:00:00</td>\n",
       "      <td>72</td>\n",
       "      <td>2.0</td>\n",
       "      <td>2.0</td>\n",
       "      <td>100.0</td>\n",
       "      <td>0.0</td>\n",
       "      <td>1.0</td>\n",
       "      <td>0.0</td>\n",
       "      <td>1.0</td>\n",
       "      <td>3.0</td>\n",
       "    </tr>\n",
       "    <tr>\n",
       "      <th>2015-01-04 04:00:00</th>\n",
       "      <td>2015-01-04 04:00:00</td>\n",
       "      <td>47</td>\n",
       "      <td>2.0</td>\n",
       "      <td>0.0</td>\n",
       "      <td>93.0</td>\n",
       "      <td>6.5</td>\n",
       "      <td>1.0</td>\n",
       "      <td>0.0</td>\n",
       "      <td>1.0</td>\n",
       "      <td>3.0</td>\n",
       "    </tr>\n",
       "    <tr>\n",
       "      <th>...</th>\n",
       "      <td>...</td>\n",
       "      <td>...</td>\n",
       "      <td>...</td>\n",
       "      <td>...</td>\n",
       "      <td>...</td>\n",
       "      <td>...</td>\n",
       "      <td>...</td>\n",
       "      <td>...</td>\n",
       "      <td>...</td>\n",
       "      <td>...</td>\n",
       "    </tr>\n",
       "    <tr>\n",
       "      <th>2017-01-03 19:00:00</th>\n",
       "      <td>2017-01-03 19:00:00</td>\n",
       "      <td>1042</td>\n",
       "      <td>5.0</td>\n",
       "      <td>1.0</td>\n",
       "      <td>81.0</td>\n",
       "      <td>19.0</td>\n",
       "      <td>3.0</td>\n",
       "      <td>0.0</td>\n",
       "      <td>0.0</td>\n",
       "      <td>3.0</td>\n",
       "    </tr>\n",
       "    <tr>\n",
       "      <th>2017-01-03 20:00:00</th>\n",
       "      <td>2017-01-03 20:00:00</td>\n",
       "      <td>541</td>\n",
       "      <td>5.0</td>\n",
       "      <td>1.0</td>\n",
       "      <td>81.0</td>\n",
       "      <td>21.0</td>\n",
       "      <td>4.0</td>\n",
       "      <td>0.0</td>\n",
       "      <td>0.0</td>\n",
       "      <td>3.0</td>\n",
       "    </tr>\n",
       "    <tr>\n",
       "      <th>2017-01-03 21:00:00</th>\n",
       "      <td>2017-01-03 21:00:00</td>\n",
       "      <td>337</td>\n",
       "      <td>5.5</td>\n",
       "      <td>1.5</td>\n",
       "      <td>78.5</td>\n",
       "      <td>24.0</td>\n",
       "      <td>4.0</td>\n",
       "      <td>0.0</td>\n",
       "      <td>0.0</td>\n",
       "      <td>3.0</td>\n",
       "    </tr>\n",
       "    <tr>\n",
       "      <th>2017-01-03 22:00:00</th>\n",
       "      <td>2017-01-03 22:00:00</td>\n",
       "      <td>224</td>\n",
       "      <td>5.5</td>\n",
       "      <td>1.5</td>\n",
       "      <td>76.0</td>\n",
       "      <td>23.0</td>\n",
       "      <td>4.0</td>\n",
       "      <td>0.0</td>\n",
       "      <td>0.0</td>\n",
       "      <td>3.0</td>\n",
       "    </tr>\n",
       "    <tr>\n",
       "      <th>2017-01-03 23:00:00</th>\n",
       "      <td>2017-01-03 23:00:00</td>\n",
       "      <td>139</td>\n",
       "      <td>5.0</td>\n",
       "      <td>1.0</td>\n",
       "      <td>76.0</td>\n",
       "      <td>22.0</td>\n",
       "      <td>2.0</td>\n",
       "      <td>0.0</td>\n",
       "      <td>0.0</td>\n",
       "      <td>3.0</td>\n",
       "    </tr>\n",
       "  </tbody>\n",
       "</table>\n",
       "<p>17414 rows × 10 columns</p>\n",
       "</div>"
      ],
      "text/plain": [
       "                              timestamp   cnt   t1   t2    hum  wind_speed  \\\n",
       "timestamp                                                                    \n",
       "2015-01-04 00:00:00 2015-01-04 00:00:00   182  3.0  2.0   93.0         6.0   \n",
       "2015-01-04 01:00:00 2015-01-04 01:00:00   138  3.0  2.5   93.0         5.0   \n",
       "2015-01-04 02:00:00 2015-01-04 02:00:00   134  2.5  2.5   96.5         0.0   \n",
       "2015-01-04 03:00:00 2015-01-04 03:00:00    72  2.0  2.0  100.0         0.0   \n",
       "2015-01-04 04:00:00 2015-01-04 04:00:00    47  2.0  0.0   93.0         6.5   \n",
       "...                                 ...   ...  ...  ...    ...         ...   \n",
       "2017-01-03 19:00:00 2017-01-03 19:00:00  1042  5.0  1.0   81.0        19.0   \n",
       "2017-01-03 20:00:00 2017-01-03 20:00:00   541  5.0  1.0   81.0        21.0   \n",
       "2017-01-03 21:00:00 2017-01-03 21:00:00   337  5.5  1.5   78.5        24.0   \n",
       "2017-01-03 22:00:00 2017-01-03 22:00:00   224  5.5  1.5   76.0        23.0   \n",
       "2017-01-03 23:00:00 2017-01-03 23:00:00   139  5.0  1.0   76.0        22.0   \n",
       "\n",
       "                     weather_code  is_holiday  is_weekend  season  \n",
       "timestamp                                                          \n",
       "2015-01-04 00:00:00           3.0         0.0         1.0     3.0  \n",
       "2015-01-04 01:00:00           1.0         0.0         1.0     3.0  \n",
       "2015-01-04 02:00:00           1.0         0.0         1.0     3.0  \n",
       "2015-01-04 03:00:00           1.0         0.0         1.0     3.0  \n",
       "2015-01-04 04:00:00           1.0         0.0         1.0     3.0  \n",
       "...                           ...         ...         ...     ...  \n",
       "2017-01-03 19:00:00           3.0         0.0         0.0     3.0  \n",
       "2017-01-03 20:00:00           4.0         0.0         0.0     3.0  \n",
       "2017-01-03 21:00:00           4.0         0.0         0.0     3.0  \n",
       "2017-01-03 22:00:00           4.0         0.0         0.0     3.0  \n",
       "2017-01-03 23:00:00           2.0         0.0         0.0     3.0  \n",
       "\n",
       "[17414 rows x 10 columns]"
      ]
     },
     "execution_count": 23,
     "metadata": {},
     "output_type": "execute_result"
    }
   ],
   "source": [
    "df.sort_values(by='timestamp', inplace=True)\n",
    "df.set_index('timestamp', drop=False, inplace=True)\n",
    "df"
   ]
  },
  {
   "cell_type": "markdown",
   "id": "c6a88b21-5d31-44e5-8366-a8f9ccb2eae0",
   "metadata": {},
   "source": [
    "**СМОТРИМ ВЫБРОСЫ**"
   ]
  },
  {
   "cell_type": "code",
   "execution_count": 43,
   "id": "89a76aa3-23f3-4d9e-9e68-8f1ef7e17166",
   "metadata": {},
   "outputs": [
    {
     "data": {
      "text/plain": [
       "DatetimeIndex(['2015-01-04 00:00:00', '2015-01-04 01:00:00',\n",
       "               '2015-01-04 02:00:00', '2015-01-04 03:00:00',\n",
       "               '2015-01-04 04:00:00', '2015-01-04 05:00:00',\n",
       "               '2015-01-04 06:00:00', '2015-01-04 07:00:00',\n",
       "               '2015-01-04 08:00:00', '2015-01-04 09:00:00',\n",
       "               ...\n",
       "               '2017-01-03 14:00:00', '2017-01-03 15:00:00',\n",
       "               '2017-01-03 16:00:00', '2017-01-03 17:00:00',\n",
       "               '2017-01-03 18:00:00', '2017-01-03 19:00:00',\n",
       "               '2017-01-03 20:00:00', '2017-01-03 21:00:00',\n",
       "               '2017-01-03 22:00:00', '2017-01-03 23:00:00'],\n",
       "              dtype='datetime64[ns]', name='timestamp', length=17414, freq=None)"
      ]
     },
     "execution_count": 43,
     "metadata": {},
     "output_type": "execute_result"
    }
   ],
   "source": [
    "df['cnt'].index#.resample('D').sum()"
   ]
  },
  {
   "cell_type": "code",
   "execution_count": 62,
   "id": "e37c14ef-d8ad-4545-a84c-0e9b56dc63eb",
   "metadata": {},
   "outputs": [
    {
     "data": {
      "text/plain": [
       "timestamp\n",
       "2015-01-04     9234\n",
       "2015-01-05    20372\n",
       "2015-01-06    20613\n",
       "2015-01-07    21064\n",
       "2015-01-08    15601\n",
       "              ...  \n",
       "2016-12-30    11566\n",
       "2016-12-31    11424\n",
       "2017-01-01     6421\n",
       "2017-01-02    11823\n",
       "2017-01-03    19436\n",
       "Freq: D, Name: cnt, Length: 731, dtype: int64"
      ]
     },
     "execution_count": 62,
     "metadata": {},
     "output_type": "execute_result"
    }
   ],
   "source": [
    "df['cnt'].resample('D').sum()"
   ]
  },
  {
   "cell_type": "code",
   "execution_count": 54,
   "id": "1dc65035-05b3-4e12-9ef1-5b7d76447b29",
   "metadata": {},
   "outputs": [
    {
     "data": {
      "text/plain": [
       "<Axes: xlabel='timestamp'>"
      ]
     },
     "execution_count": 54,
     "metadata": {},
     "output_type": "execute_result"
    },
    {
     "data": {
      "image/png": "[encoded data removed]",
      "text/plain": [
       "<Figure size 900x400 with 1 Axes>"
      ]
     },
     "metadata": {},
     "output_type": "display_data"
    }
   ],
   "source": [
    "df['cnt'].resample('D').sum().plot()"
   ]
  },
  {
   "cell_type": "markdown",
   "id": "2ee5b60a",
   "metadata": {},
   "source": [
    "### 4"
   ]
  },
  {
   "cell_type": "markdown",
   "id": "4543f24b",
   "metadata": {},
   "source": [
    "Итак, вы обнаружили на графике некоторые скачки. Давайте проверим, что же могло произойти в тот день 🤔.\n",
    "\n",
    "Для этого разделим дальнейшие действия на несколько этапов:\n",
    "\n",
    "· сначала посчитаем скользящее среднее, чтобы сгладить ряд  \n",
    "· далее – разницу между наблюдаемыми и сглаженными значениями  \n",
    "· определим верхние и нижние границы 99% доверительного интервала   \n",
    "· найдем причины аномалий!  \n",
    "На данном шаге возьмите агрегированные данные по дням с предыдущего шага и посчитайте скользящее среднее с окном 3 дня."
   ]
  },
  {
   "cell_type": "code",
   "execution_count": 77,
   "id": "4c46744a",
   "metadata": {},
   "outputs": [
    {
     "data": {
      "text/html": [
       "<div>\n",
       "<style scoped>\n",
       "    .dataframe tbody tr th:only-of-type {\n",
       "        vertical-align: middle;\n",
       "    }\n",
       "\n",
       "    .dataframe tbody tr th {\n",
       "        vertical-align: top;\n",
       "    }\n",
       "\n",
       "    .dataframe thead th {\n",
       "        text-align: right;\n",
       "    }\n",
       "</style>\n",
       "<table border=\"1\" class=\"dataframe\">\n",
       "  <thead>\n",
       "    <tr style=\"text-align: right;\">\n",
       "      <th></th>\n",
       "      <th>timestamp</th>\n",
       "      <th>cnt</th>\n",
       "    </tr>\n",
       "  </thead>\n",
       "  <tbody>\n",
       "    <tr>\n",
       "      <th>0</th>\n",
       "      <td>2015-01-04</td>\n",
       "      <td>NaN</td>\n",
       "    </tr>\n",
       "    <tr>\n",
       "      <th>1</th>\n",
       "      <td>2015-01-05</td>\n",
       "      <td>NaN</td>\n",
       "    </tr>\n",
       "    <tr>\n",
       "      <th>2</th>\n",
       "      <td>2015-01-06</td>\n",
       "      <td>16739.666667</td>\n",
       "    </tr>\n",
       "    <tr>\n",
       "      <th>3</th>\n",
       "      <td>2015-01-07</td>\n",
       "      <td>20683.000000</td>\n",
       "    </tr>\n",
       "    <tr>\n",
       "      <th>4</th>\n",
       "      <td>2015-01-08</td>\n",
       "      <td>19092.666667</td>\n",
       "    </tr>\n",
       "    <tr>\n",
       "      <th>...</th>\n",
       "      <td>...</td>\n",
       "      <td>...</td>\n",
       "    </tr>\n",
       "    <tr>\n",
       "      <th>726</th>\n",
       "      <td>2016-12-30</td>\n",
       "      <td>12682.000000</td>\n",
       "    </tr>\n",
       "    <tr>\n",
       "      <th>727</th>\n",
       "      <td>2016-12-31</td>\n",
       "      <td>12347.333333</td>\n",
       "    </tr>\n",
       "    <tr>\n",
       "      <th>728</th>\n",
       "      <td>2017-01-01</td>\n",
       "      <td>9803.666667</td>\n",
       "    </tr>\n",
       "    <tr>\n",
       "      <th>729</th>\n",
       "      <td>2017-01-02</td>\n",
       "      <td>9889.333333</td>\n",
       "    </tr>\n",
       "    <tr>\n",
       "      <th>730</th>\n",
       "      <td>2017-01-03</td>\n",
       "      <td>12560.000000</td>\n",
       "    </tr>\n",
       "  </tbody>\n",
       "</table>\n",
       "<p>731 rows × 2 columns</p>\n",
       "</div>"
      ],
      "text/plain": [
       "     timestamp           cnt\n",
       "0   2015-01-04           NaN\n",
       "1   2015-01-05           NaN\n",
       "2   2015-01-06  16739.666667\n",
       "3   2015-01-07  20683.000000\n",
       "4   2015-01-08  19092.666667\n",
       "..         ...           ...\n",
       "726 2016-12-30  12682.000000\n",
       "727 2016-12-31  12347.333333\n",
       "728 2017-01-01   9803.666667\n",
       "729 2017-01-02   9889.333333\n",
       "730 2017-01-03  12560.000000\n",
       "\n",
       "[731 rows x 2 columns]"
      ]
     },
     "execution_count": 77,
     "metadata": {},
     "output_type": "execute_result"
    }
   ],
   "source": [
    "df_by_day_roll = df[\"cnt\"].resample('D').sum().rolling(window=3).mean()\n",
    "df_by_day_roll=df_by_day_roll.reset_index()\n",
    "df_by_day_roll"
   ]
  },
  {
   "cell_type": "markdown",
   "id": "7756ba8d-637d-42a1-b74a-f89fcdff996b",
   "metadata": {},
   "source": [
    "**Выбросы в точках сильно больше скользящего среднего**"
   ]
  },
  {
   "cell_type": "code",
   "execution_count": 61,
   "id": "9d913f93-abcf-4f12-95b7-68e357aa1f99",
   "metadata": {},
   "outputs": [
    {
     "data": {
      "text/plain": [
       "<Axes: xlabel='timestamp'>"
      ]
     },
     "execution_count": 61,
     "metadata": {},
     "output_type": "execute_result"
    },
    {
     "data": {
      "image/png": "[encoded data removed]",
      "text/plain": [
       "<Figure size 900x400 with 1 Axes>"
      ]
     },
     "metadata": {},
     "output_type": "display_data"
    }
   ],
   "source": [
    "df['cnt'].resample('D').sum().plot()\n",
    "df_by_day_roll.plot()"
   ]
  },
  {
   "cell_type": "markdown",
   "id": "3c2c73e4",
   "metadata": {},
   "source": [
    "### 5"
   ]
  },
  {
   "cell_type": "markdown",
   "id": "f4e937b8",
   "metadata": {},
   "source": [
    "Теперь посчитайте разницу между наблюдаемыми и подсчитанными значениями. Далее – примените функцию для подсчета стандартного отклонения. Например:\n",
    "\n",
    "c = a - b  \n",
    "std = np.std(c)\n",
    "\n",
    "В качестве ответа введите полученное стандартное отклонение, округленное до 2 знаков после точки."
   ]
  },
  {
   "cell_type": "code",
   "execution_count": 88,
   "id": "f54fe9ce",
   "metadata": {},
   "outputs": [
    {
     "data": {
      "text/plain": [
       "4558.59"
      ]
     },
     "execution_count": 88,
     "metadata": {},
     "output_type": "execute_result"
    }
   ],
   "source": [
    "std=np.std(df_by_day['cnt'] - df_by_day_roll['cnt'])\n",
    "round(np.std(df_by_day['cnt'] - df_by_day_roll['cnt']), 2)"
   ]
  },
  {
   "cell_type": "code",
   "execution_count": 87,
   "id": "aa037664-dfa4-4b87-b78f-6bec6dd1c3a4",
   "metadata": {},
   "outputs": [
    {
     "data": {
      "text/plain": [
       "4552.346175120079"
      ]
     },
     "execution_count": 87,
     "metadata": {},
     "output_type": "execute_result"
    }
   ],
   "source": [
    "d=((df_by_day['cnt'] - df_by_day_roll['cnt'])**2).sum()\n",
    "np.sqrt(d/len(df_by_day['cnt'])-1)"
   ]
  },
  {
   "cell_type": "markdown",
   "id": "f5a17cb0",
   "metadata": {},
   "source": [
    "### 6"
   ]
  },
  {
   "cell_type": "markdown",
   "id": "e696c6df",
   "metadata": {},
   "source": [
    "Теперь определим границы интервалов. Для этого нужно взять данные, полученные при расчете скользящего среднего, и создать следующие объекты:\n",
    "\n",
    "· upper_bound – верхняя граница; к средним прибавляем 2.576∗std  \n",
    "· lower_bound – нижняя граница; вычитаем 2.576∗std  \n",
    "Полученные значения запишите в новые столбцы датафрейма с агрегированными данными.  \n",
    "\n",
    "Чему равно значение **верхней** границы для **последнего** наблюдения? Ответ укажите с точностью до 2 знаков после точки."
   ]
  },
  {
   "cell_type": "code",
   "execution_count": 89,
   "id": "ce457ab1",
   "metadata": {},
   "outputs": [],
   "source": [
    "upper_bound = df_by_day_roll['cnt'] + 2.576 * std # +3 сигмы\n",
    "lower_bound = df_by_day_roll['cnt'] - 2.576 * std # -3 сигмы"
   ]
  },
  {
   "cell_type": "code",
   "execution_count": 91,
   "id": "401fd66e",
   "metadata": {},
   "outputs": [],
   "source": [
    "df_by_day['upper_bound'] = upper_bound\n",
    "df_by_day['lower_bound'] = lower_bound"
   ]
  },
  {
   "cell_type": "code",
   "execution_count": 92,
   "id": "e90b0464",
   "metadata": {},
   "outputs": [
    {
     "data": {
      "text/html": [
       "<div>\n",
       "<style scoped>\n",
       "    .dataframe tbody tr th:only-of-type {\n",
       "        vertical-align: middle;\n",
       "    }\n",
       "\n",
       "    .dataframe tbody tr th {\n",
       "        vertical-align: top;\n",
       "    }\n",
       "\n",
       "    .dataframe thead th {\n",
       "        text-align: right;\n",
       "    }\n",
       "</style>\n",
       "<table border=\"1\" class=\"dataframe\">\n",
       "  <thead>\n",
       "    <tr style=\"text-align: right;\">\n",
       "      <th></th>\n",
       "      <th>timestamp</th>\n",
       "      <th>cnt</th>\n",
       "      <th>upper_bound</th>\n",
       "      <th>lower_bound</th>\n",
       "    </tr>\n",
       "  </thead>\n",
       "  <tbody>\n",
       "    <tr>\n",
       "      <th>0</th>\n",
       "      <td>2015-01-04</td>\n",
       "      <td>9234</td>\n",
       "      <td>NaN</td>\n",
       "      <td>NaN</td>\n",
       "    </tr>\n",
       "    <tr>\n",
       "      <th>1</th>\n",
       "      <td>2015-01-05</td>\n",
       "      <td>20372</td>\n",
       "      <td>NaN</td>\n",
       "      <td>NaN</td>\n",
       "    </tr>\n",
       "    <tr>\n",
       "      <th>2</th>\n",
       "      <td>2015-01-06</td>\n",
       "      <td>20613</td>\n",
       "      <td>28482.585854</td>\n",
       "      <td>4996.747479</td>\n",
       "    </tr>\n",
       "    <tr>\n",
       "      <th>3</th>\n",
       "      <td>2015-01-07</td>\n",
       "      <td>21064</td>\n",
       "      <td>32425.919188</td>\n",
       "      <td>8940.080812</td>\n",
       "    </tr>\n",
       "    <tr>\n",
       "      <th>4</th>\n",
       "      <td>2015-01-08</td>\n",
       "      <td>15601</td>\n",
       "      <td>30835.585854</td>\n",
       "      <td>7349.747479</td>\n",
       "    </tr>\n",
       "    <tr>\n",
       "      <th>...</th>\n",
       "      <td>...</td>\n",
       "      <td>...</td>\n",
       "      <td>...</td>\n",
       "      <td>...</td>\n",
       "    </tr>\n",
       "    <tr>\n",
       "      <th>726</th>\n",
       "      <td>2016-12-30</td>\n",
       "      <td>11566</td>\n",
       "      <td>24424.919188</td>\n",
       "      <td>939.080812</td>\n",
       "    </tr>\n",
       "    <tr>\n",
       "      <th>727</th>\n",
       "      <td>2016-12-31</td>\n",
       "      <td>11424</td>\n",
       "      <td>24090.252521</td>\n",
       "      <td>604.414146</td>\n",
       "    </tr>\n",
       "    <tr>\n",
       "      <th>728</th>\n",
       "      <td>2017-01-01</td>\n",
       "      <td>6421</td>\n",
       "      <td>21546.585854</td>\n",
       "      <td>-1939.252521</td>\n",
       "    </tr>\n",
       "    <tr>\n",
       "      <th>729</th>\n",
       "      <td>2017-01-02</td>\n",
       "      <td>11823</td>\n",
       "      <td>21632.252521</td>\n",
       "      <td>-1853.585854</td>\n",
       "    </tr>\n",
       "    <tr>\n",
       "      <th>730</th>\n",
       "      <td>2017-01-03</td>\n",
       "      <td>19436</td>\n",
       "      <td>24302.919188</td>\n",
       "      <td>817.080812</td>\n",
       "    </tr>\n",
       "  </tbody>\n",
       "</table>\n",
       "<p>731 rows × 4 columns</p>\n",
       "</div>"
      ],
      "text/plain": [
       "     timestamp    cnt   upper_bound  lower_bound\n",
       "0   2015-01-04   9234           NaN          NaN\n",
       "1   2015-01-05  20372           NaN          NaN\n",
       "2   2015-01-06  20613  28482.585854  4996.747479\n",
       "3   2015-01-07  21064  32425.919188  8940.080812\n",
       "4   2015-01-08  15601  30835.585854  7349.747479\n",
       "..         ...    ...           ...          ...\n",
       "726 2016-12-30  11566  24424.919188   939.080812\n",
       "727 2016-12-31  11424  24090.252521   604.414146\n",
       "728 2017-01-01   6421  21546.585854 -1939.252521\n",
       "729 2017-01-02  11823  21632.252521 -1853.585854\n",
       "730 2017-01-03  19436  24302.919188   817.080812\n",
       "\n",
       "[731 rows x 4 columns]"
      ]
     },
     "execution_count": 92,
     "metadata": {},
     "output_type": "execute_result"
    }
   ],
   "source": [
    "df_by_day"
   ]
  },
  {
   "cell_type": "code",
   "execution_count": 90,
   "id": "76c7c032",
   "metadata": {},
   "outputs": [
    {
     "data": {
      "text/plain": [
       "24302.92"
      ]
     },
     "execution_count": 90,
     "metadata": {},
     "output_type": "execute_result"
    }
   ],
   "source": [
    "round(upper_bound.loc[730], 2)"
   ]
  },
  {
   "cell_type": "markdown",
   "id": "736cfbc8",
   "metadata": {},
   "source": [
    "### 7"
   ]
  },
  {
   "cell_type": "markdown",
   "id": "b49e7424",
   "metadata": {},
   "source": [
    "И наконец – **изучим аномально высокие значения!** Сначала выведите наблюдения, для которых наблюдаемые значения( количество аренд в час-cnt) оказались больше верхней границы 99% доверительного интервала."
   ]
  },
  {
   "cell_type": "code",
   "execution_count": 97,
   "id": "4aec78e2",
   "metadata": {
    "scrolled": true
   },
   "outputs": [
    {
     "data": {
      "text/html": [
       "<div>\n",
       "<style scoped>\n",
       "    .dataframe tbody tr th:only-of-type {\n",
       "        vertical-align: middle;\n",
       "    }\n",
       "\n",
       "    .dataframe tbody tr th {\n",
       "        vertical-align: top;\n",
       "    }\n",
       "\n",
       "    .dataframe thead th {\n",
       "        text-align: right;\n",
       "    }\n",
       "</style>\n",
       "<table border=\"1\" class=\"dataframe\">\n",
       "  <thead>\n",
       "    <tr style=\"text-align: right;\">\n",
       "      <th></th>\n",
       "      <th>timestamp</th>\n",
       "      <th>cnt</th>\n",
       "      <th>upper_bound</th>\n",
       "      <th>lower_bound</th>\n",
       "    </tr>\n",
       "  </thead>\n",
       "  <tbody>\n",
       "    <tr>\n",
       "      <th>186</th>\n",
       "      <td>2015-07-09</td>\n",
       "      <td>72504</td>\n",
       "      <td>62447.919188</td>\n",
       "      <td>38962.080812</td>\n",
       "    </tr>\n",
       "    <tr>\n",
       "      <th>214</th>\n",
       "      <td>2015-08-06</td>\n",
       "      <td>63468</td>\n",
       "      <td>58370.252521</td>\n",
       "      <td>34884.414146</td>\n",
       "    </tr>\n",
       "    <tr>\n",
       "      <th>609</th>\n",
       "      <td>2016-09-04</td>\n",
       "      <td>27512</td>\n",
       "      <td>26001.919188</td>\n",
       "      <td>2516.080812</td>\n",
       "    </tr>\n",
       "    <tr>\n",
       "      <th>721</th>\n",
       "      <td>2016-12-25</td>\n",
       "      <td>36653</td>\n",
       "      <td>31393.585854</td>\n",
       "      <td>7907.747479</td>\n",
       "    </tr>\n",
       "  </tbody>\n",
       "</table>\n",
       "</div>"
      ],
      "text/plain": [
       "     timestamp    cnt   upper_bound   lower_bound\n",
       "186 2015-07-09  72504  62447.919188  38962.080812\n",
       "214 2015-08-06  63468  58370.252521  34884.414146\n",
       "609 2016-09-04  27512  26001.919188   2516.080812\n",
       "721 2016-12-25  36653  31393.585854   7907.747479"
      ]
     },
     "execution_count": 97,
     "metadata": {},
     "output_type": "execute_result"
    }
   ],
   "source": [
    "df_by_day.query('cnt > upper_bound')"
   ]
  },
  {
   "cell_type": "markdown",
   "id": "e08a32b7",
   "metadata": {},
   "source": [
    "### 8"
   ]
  },
  {
   "cell_type": "markdown",
   "id": "e825f29f",
   "metadata": {},
   "source": [
    "Проделайте аналогичную операцию для дней, когда число аренд оказалось ниже ожидаемого. В чем может быть причина падения числа аренд 2016-09-02?"
   ]
  },
  {
   "cell_type": "code",
   "execution_count": 98,
   "id": "adc92bb5",
   "metadata": {},
   "outputs": [
    {
     "data": {
      "text/html": [
       "<div>\n",
       "<style scoped>\n",
       "    .dataframe tbody tr th:only-of-type {\n",
       "        vertical-align: middle;\n",
       "    }\n",
       "\n",
       "    .dataframe tbody tr th {\n",
       "        vertical-align: top;\n",
       "    }\n",
       "\n",
       "    .dataframe thead th {\n",
       "        text-align: right;\n",
       "    }\n",
       "</style>\n",
       "<table border=\"1\" class=\"dataframe\">\n",
       "  <thead>\n",
       "    <tr style=\"text-align: right;\">\n",
       "      <th></th>\n",
       "      <th>timestamp</th>\n",
       "      <th>cnt</th>\n",
       "      <th>upper_bound</th>\n",
       "      <th>lower_bound</th>\n",
       "    </tr>\n",
       "  </thead>\n",
       "  <tbody>\n",
       "    <tr>\n",
       "      <th>130</th>\n",
       "      <td>2015-05-14</td>\n",
       "      <td>15609</td>\n",
       "      <td>40452.252521</td>\n",
       "      <td>16966.414146</td>\n",
       "    </tr>\n",
       "    <tr>\n",
       "      <th>189</th>\n",
       "      <td>2015-07-12</td>\n",
       "      <td>23240</td>\n",
       "      <td>47779.585854</td>\n",
       "      <td>24293.747479</td>\n",
       "    </tr>\n",
       "    <tr>\n",
       "      <th>201</th>\n",
       "      <td>2015-07-24</td>\n",
       "      <td>16034</td>\n",
       "      <td>42756.585854</td>\n",
       "      <td>19270.747479</td>\n",
       "    </tr>\n",
       "    <tr>\n",
       "      <th>232</th>\n",
       "      <td>2015-08-24</td>\n",
       "      <td>17400</td>\n",
       "      <td>41272.252521</td>\n",
       "      <td>17786.414146</td>\n",
       "    </tr>\n",
       "    <tr>\n",
       "      <th>314</th>\n",
       "      <td>2015-11-14</td>\n",
       "      <td>8898</td>\n",
       "      <td>32780.252521</td>\n",
       "      <td>9294.414146</td>\n",
       "    </tr>\n",
       "    <tr>\n",
       "      <th>607</th>\n",
       "      <td>2016-09-02</td>\n",
       "      <td>0</td>\n",
       "      <td>37829.252521</td>\n",
       "      <td>14343.414146</td>\n",
       "    </tr>\n",
       "    <tr>\n",
       "      <th>615</th>\n",
       "      <td>2016-09-10</td>\n",
       "      <td>17080</td>\n",
       "      <td>43004.919188</td>\n",
       "      <td>19519.080812</td>\n",
       "    </tr>\n",
       "    <tr>\n",
       "      <th>621</th>\n",
       "      <td>2016-09-16</td>\n",
       "      <td>21967</td>\n",
       "      <td>47936.252521</td>\n",
       "      <td>24450.414146</td>\n",
       "    </tr>\n",
       "    <tr>\n",
       "      <th>678</th>\n",
       "      <td>2016-11-12</td>\n",
       "      <td>8990</td>\n",
       "      <td>32620.919188</td>\n",
       "      <td>9135.080812</td>\n",
       "    </tr>\n",
       "  </tbody>\n",
       "</table>\n",
       "</div>"
      ],
      "text/plain": [
       "     timestamp    cnt   upper_bound   lower_bound\n",
       "130 2015-05-14  15609  40452.252521  16966.414146\n",
       "189 2015-07-12  23240  47779.585854  24293.747479\n",
       "201 2015-07-24  16034  42756.585854  19270.747479\n",
       "232 2015-08-24  17400  41272.252521  17786.414146\n",
       "314 2015-11-14   8898  32780.252521   9294.414146\n",
       "607 2016-09-02      0  37829.252521  14343.414146\n",
       "615 2016-09-10  17080  43004.919188  19519.080812\n",
       "621 2016-09-16  21967  47936.252521  24450.414146\n",
       "678 2016-11-12   8990  32620.919188   9135.080812"
      ]
     },
     "execution_count": 98,
     "metadata": {},
     "output_type": "execute_result"
    }
   ],
   "source": [
    "df_by_day.query('cnt < lower_bound') # 2016-09-02- Скорее всего ощибка в данных"
   ]
  },
  {
   "cell_type": "code",
   "execution_count": null,
   "id": "3af276ee",
   "metadata": {},
   "outputs": [],
   "source": []
  }
 ],
 "metadata": {
  "kernelspec": {
   "display_name": "Python 3 (ipykernel)",
   "language": "python",
   "name": "python3"
  },
  "language_info": {
   "codemirror_mode": {
    "name": "ipython",
    "version": 3
   },
   "file_extension": ".py",
   "mimetype": "text/x-python",
   "name": "python",
   "nbconvert_exporter": "python",
   "pygments_lexer": "ipython3",
   "version": "3.11.9"
  }
 },
 "nbformat": 4,
 "nbformat_minor": 5
}
