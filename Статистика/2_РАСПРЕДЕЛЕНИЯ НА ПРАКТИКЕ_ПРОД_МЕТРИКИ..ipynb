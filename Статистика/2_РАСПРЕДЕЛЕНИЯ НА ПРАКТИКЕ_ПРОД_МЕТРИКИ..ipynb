{
 "cells": [
  {
   "cell_type": "markdown",
   "id": "9e8e57da",
   "metadata": {},
   "source": [
    "# ПРОВЕРКА ГИПОТЕЗ"
   ]
  },
  {
   "cell_type": "markdown",
   "id": "af54f07c",
   "metadata": {},
   "source": [
    "В этом мини-проекте мы посчитаем несколько продуктовых метрик и посмотрим, какие распределения могут встретиться на практике.\n",
    "\n",
    "## Задания  \n",
    "1. Загрузите данные, проверьте число наблюдений и столбцов, типы данных, наличие пропущенных значений, какие уникальные значения встречаются.  \n",
    "2. Постройте график распределения числа показов (Impressions) для каждой рекламы, прологарифмировав значения.  \n",
    "3. Создайте новую колонку c CTR. Посмотрите на описательные статистики и распределение.  \n",
    "4. Проанализируйте CTR с разбивкой по рекламной кампании.  \n",
    "5. Посчитайте стоимость за клик пользователя по объявлению (CPC). Изучите полученные значения, используя меры центральной тенденции и меры изменчивости.  \n",
    "6. Визуализируйте CPC с разбивкой по полу пользователей, которым были показаны объявления.   \n",
    "7. Посчитайте конверсию из клика в покупку.  \n",
    "\n",
    "## Описание данных\n",
    "\n",
    "· ad_id – идентификатор объявления (рекламы)  \n",
    "· xyz_campaign_id – идентификатор рекламной кампании в базе компании X  \n",
    "· fb_campaign_id – идентификатор кампании в Facebook  \n",
    "· age – возрастная группа, которой показывалась реклама  \n",
    "· gender – пол тех, кому показывалась реклама  \n",
    "· interest –**код, указывающий категорию**, к которой относится интерес пользователя (соответствие число – интерес, условно: 1 –       животные, 2 – автомобили, 3 – тортики и т.д.)  \n",
    "· impressions – число показов  \n",
    "· clicks – число кликов  \n",
    "· spent – сумма, которую компания потратила на показ объявления   \n",
    "· total_conversion – количество людей, которые заинтересовались продуктом после просмотра рекламы  \n",
    "· approved_conversion – количество людей, которые купили продукт после просмотра рекламы  "
   ]
  },
  {
   "cell_type": "code",
   "execution_count": null,
   "id": "dca17619-2762-4022-9d15-c8e92764c334",
   "metadata": {},
   "outputs": [],
   "source": [
    "### 1"
   ]
  },
  {
   "cell_type": "markdown",
   "id": "b33b5efc",
   "metadata": {},
   "source": [
    "Загрузите данные, проверьте число наблюдений и столбцов, типы данных, наличие пропущенных значений, какие уникальные значения встречаются.\n",
    "\n",
    "Сколько уникальных рекламных кампаний было проведено? \n",
    "\n",
    "Note: использовать идентификатор кампании в базе Х – xyz_campaign_id."
   ]
  },
  {
   "cell_type": "code",
   "execution_count": 5,
   "id": "ab3fff4b",
   "metadata": {},
   "outputs": [],
   "source": [
    "import pandas as pd\n",
    "import numpy as np\n",
    "import scipy.stats as sts\n",
    "import seaborn as sns\n",
    "import matplotlib.pyplot as plt\n",
    "\n",
    "sns.set_theme(rc={'figure.figsize':(12, 6)}, style='whitegrid')"
   ]
  },
  {
   "cell_type": "code",
   "execution_count": 6,
   "id": "868d6198",
   "metadata": {},
   "outputs": [],
   "source": [
    "conv = pd.read_csv('conversion2.csv')"
   ]
  },
  {
   "cell_type": "code",
   "execution_count": 7,
   "id": "dd570bb5",
   "metadata": {},
   "outputs": [
    {
     "data": {
      "text/html": [
       "<div>\n",
       "<style scoped>\n",
       "    .dataframe tbody tr th:only-of-type {\n",
       "        vertical-align: middle;\n",
       "    }\n",
       "\n",
       "    .dataframe tbody tr th {\n",
       "        vertical-align: top;\n",
       "    }\n",
       "\n",
       "    .dataframe thead th {\n",
       "        text-align: right;\n",
       "    }\n",
       "</style>\n",
       "<table border=\"1\" class=\"dataframe\">\n",
       "  <thead>\n",
       "    <tr style=\"text-align: right;\">\n",
       "      <th></th>\n",
       "      <th>ad_id</th>\n",
       "      <th>xyz_campaign_id</th>\n",
       "      <th>fb_campaign_id</th>\n",
       "      <th>age</th>\n",
       "      <th>gender</th>\n",
       "      <th>interest</th>\n",
       "      <th>Impressions</th>\n",
       "      <th>Clicks</th>\n",
       "      <th>Spent</th>\n",
       "      <th>Total_Conversion</th>\n",
       "      <th>Approved_Conversion</th>\n",
       "    </tr>\n",
       "  </thead>\n",
       "  <tbody>\n",
       "    <tr>\n",
       "      <th>0</th>\n",
       "      <td>708746</td>\n",
       "      <td>916</td>\n",
       "      <td>103916</td>\n",
       "      <td>30-34</td>\n",
       "      <td>M</td>\n",
       "      <td>15</td>\n",
       "      <td>7350</td>\n",
       "      <td>1</td>\n",
       "      <td>1.43</td>\n",
       "      <td>2</td>\n",
       "      <td>1</td>\n",
       "    </tr>\n",
       "    <tr>\n",
       "      <th>1</th>\n",
       "      <td>708749</td>\n",
       "      <td>916</td>\n",
       "      <td>103917</td>\n",
       "      <td>30-34</td>\n",
       "      <td>M</td>\n",
       "      <td>16</td>\n",
       "      <td>17861</td>\n",
       "      <td>2</td>\n",
       "      <td>1.82</td>\n",
       "      <td>2</td>\n",
       "      <td>0</td>\n",
       "    </tr>\n",
       "    <tr>\n",
       "      <th>2</th>\n",
       "      <td>708771</td>\n",
       "      <td>916</td>\n",
       "      <td>103920</td>\n",
       "      <td>30-34</td>\n",
       "      <td>M</td>\n",
       "      <td>20</td>\n",
       "      <td>693</td>\n",
       "      <td>0</td>\n",
       "      <td>0.00</td>\n",
       "      <td>1</td>\n",
       "      <td>0</td>\n",
       "    </tr>\n",
       "    <tr>\n",
       "      <th>3</th>\n",
       "      <td>708815</td>\n",
       "      <td>916</td>\n",
       "      <td>103928</td>\n",
       "      <td>30-34</td>\n",
       "      <td>M</td>\n",
       "      <td>28</td>\n",
       "      <td>4259</td>\n",
       "      <td>1</td>\n",
       "      <td>1.25</td>\n",
       "      <td>1</td>\n",
       "      <td>0</td>\n",
       "    </tr>\n",
       "    <tr>\n",
       "      <th>4</th>\n",
       "      <td>708818</td>\n",
       "      <td>916</td>\n",
       "      <td>103928</td>\n",
       "      <td>30-34</td>\n",
       "      <td>M</td>\n",
       "      <td>28</td>\n",
       "      <td>4133</td>\n",
       "      <td>1</td>\n",
       "      <td>1.29</td>\n",
       "      <td>1</td>\n",
       "      <td>1</td>\n",
       "    </tr>\n",
       "  </tbody>\n",
       "</table>\n",
       "</div>"
      ],
      "text/plain": [
       "    ad_id  xyz_campaign_id  fb_campaign_id    age gender  interest  \\\n",
       "0  708746              916          103916  30-34      M        15   \n",
       "1  708749              916          103917  30-34      M        16   \n",
       "2  708771              916          103920  30-34      M        20   \n",
       "3  708815              916          103928  30-34      M        28   \n",
       "4  708818              916          103928  30-34      M        28   \n",
       "\n",
       "   Impressions  Clicks  Spent  Total_Conversion  Approved_Conversion  \n",
       "0         7350       1   1.43                 2                    1  \n",
       "1        17861       2   1.82                 2                    0  \n",
       "2          693       0   0.00                 1                    0  \n",
       "3         4259       1   1.25                 1                    0  \n",
       "4         4133       1   1.29                 1                    1  "
      ]
     },
     "execution_count": 7,
     "metadata": {},
     "output_type": "execute_result"
    }
   ],
   "source": [
    "conv.head()"
   ]
  },
  {
   "cell_type": "code",
   "execution_count": 68,
   "id": "62c3dcec",
   "metadata": {},
   "outputs": [
    {
     "data": {
      "text/plain": [
       "(1143, 11)"
      ]
     },
     "execution_count": 68,
     "metadata": {},
     "output_type": "execute_result"
    }
   ],
   "source": [
    "conv.shape"
   ]
  },
  {
   "cell_type": "code",
   "execution_count": 69,
   "id": "b115d3bd-500c-4947-8e39-50e58b0c1093",
   "metadata": {},
   "outputs": [
    {
     "data": {
      "text/plain": [
       "1143"
      ]
     },
     "execution_count": 69,
     "metadata": {},
     "output_type": "execute_result"
    }
   ],
   "source": [
    "p=conv.dropna()\n",
    "len(p)"
   ]
  },
  {
   "cell_type": "code",
   "execution_count": 56,
   "id": "d7af1496",
   "metadata": {},
   "outputs": [
    {
     "data": {
      "text/plain": [
       "ad_id                  0\n",
       "xyz_campaign_id        0\n",
       "fb_campaign_id         0\n",
       "age                    0\n",
       "gender                 0\n",
       "interest               0\n",
       "Impressions            0\n",
       "Clicks                 0\n",
       "Spent                  0\n",
       "Total_Conversion       0\n",
       "Approved_Conversion    0\n",
       "dtype: int64"
      ]
     },
     "execution_count": 56,
     "metadata": {},
     "output_type": "execute_result"
    }
   ],
   "source": [
    "conv.isna().sum()"
   ]
  },
  {
   "cell_type": "code",
   "execution_count": 5,
   "id": "4605453c",
   "metadata": {},
   "outputs": [
    {
     "data": {
      "text/plain": [
       "ad_id                    int64\n",
       "xyz_campaign_id          int64\n",
       "fb_campaign_id           int64\n",
       "age                     object\n",
       "gender                  object\n",
       "interest                 int64\n",
       "Impressions              int64\n",
       "Clicks                   int64\n",
       "Spent                  float64\n",
       "Total_Conversion         int64\n",
       "Approved_Conversion      int64\n",
       "dtype: object"
      ]
     },
     "execution_count": 5,
     "metadata": {},
     "output_type": "execute_result"
    }
   ],
   "source": [
    "conv.dtypes"
   ]
  },
  {
   "cell_type": "code",
   "execution_count": 8,
   "id": "b6fef130",
   "metadata": {},
   "outputs": [
    {
     "data": {
      "text/plain": [
       "ad_id                  1143\n",
       "xyz_campaign_id           3\n",
       "fb_campaign_id          691\n",
       "age                       4\n",
       "gender                    2\n",
       "interest                 40\n",
       "Impressions            1130\n",
       "Clicks                  183\n",
       "Spent                   869\n",
       "Total_Conversion         32\n",
       "Approved_Conversion      16\n",
       "dtype: int64"
      ]
     },
     "execution_count": 8,
     "metadata": {},
     "output_type": "execute_result"
    }
   ],
   "source": [
    "conv.nunique()"
   ]
  },
  {
   "cell_type": "code",
   "execution_count": null,
   "id": "23499095-4401-420e-82b3-5e96b9e99870",
   "metadata": {},
   "outputs": [],
   "source": []
  },
  {
   "cell_type": "markdown",
   "id": "3671c9aa",
   "metadata": {},
   "source": [
    "Посмотрите на данные и их описание. Соотнесите названия переменных с соответствующим типом данных."
   ]
  },
  {
   "cell_type": "markdown",
   "id": "4f4dc9c1",
   "metadata": {},
   "source": [
    "https://kurst.org/blocks/variable-type\n",
    "clicks - дискретная  \n",
    "age - ранговая-Известен начальный(0) и конечный возраст \n",
    "gender - категориальная  \n",
    "spent - непрерывная   \n",
    "impressions - дискретная  \n",
    "approved_conversion - дискретная  \n",
    "interest - Не дискретная, категориальная\n",
    "total_conversion - дискретная  "
   ]
  },
  {
   "cell_type": "markdown",
   "id": "5e56419e",
   "metadata": {},
   "source": [
    "### 2"
   ]
  },
  {
   "cell_type": "markdown",
   "id": "b4453717",
   "metadata": {},
   "source": [
    "Постройте график распределения числа показов (Impressions – сколько раз пользователи увидели данное объявление) для каждой рекламной кампании в Facebook, прологарифмировав значения. Выберите верные утверждения:\n",
    "\n",
    "Hint: np.log()"
   ]
  },
  {
   "cell_type": "markdown",
   "id": "45344a85",
   "metadata": {},
   "source": [
    "· Распределение симметричное  \n",
    "· Полученное распределение является нормальным  \n",
    "· __Распределение бимодальное__   \n",
    "· __Полученное распределение не является нормальным__    \n",
    "· Распределение унимодальное  "
   ]
  },
  {
   "cell_type": "code",
   "execution_count": 27,
   "id": "5535959c-a3a0-431d-a0e7-fca14a18fd47",
   "metadata": {},
   "outputs": [
    {
     "data": {
      "text/html": [
       "<div>\n",
       "<style scoped>\n",
       "    .dataframe tbody tr th:only-of-type {\n",
       "        vertical-align: middle;\n",
       "    }\n",
       "\n",
       "    .dataframe tbody tr th {\n",
       "        vertical-align: top;\n",
       "    }\n",
       "\n",
       "    .dataframe thead th {\n",
       "        text-align: right;\n",
       "    }\n",
       "</style>\n",
       "<table border=\"1\" class=\"dataframe\">\n",
       "  <thead>\n",
       "    <tr style=\"text-align: right;\">\n",
       "      <th></th>\n",
       "      <th>xyz_campaign_id</th>\n",
       "      <th>Impressions</th>\n",
       "    </tr>\n",
       "  </thead>\n",
       "  <tbody>\n",
       "    <tr>\n",
       "      <th>0</th>\n",
       "      <td>916</td>\n",
       "      <td>482925</td>\n",
       "    </tr>\n",
       "    <tr>\n",
       "      <th>1</th>\n",
       "      <td>936</td>\n",
       "      <td>8128187</td>\n",
       "    </tr>\n",
       "    <tr>\n",
       "      <th>2</th>\n",
       "      <td>1178</td>\n",
       "      <td>204823716</td>\n",
       "    </tr>\n",
       "  </tbody>\n",
       "</table>\n",
       "</div>"
      ],
      "text/plain": [
       "   xyz_campaign_id  Impressions\n",
       "0              916       482925\n",
       "1              936      8128187\n",
       "2             1178    204823716"
      ]
     },
     "execution_count": 27,
     "metadata": {},
     "output_type": "execute_result"
    }
   ],
   "source": [
    "conv[['xyz_campaign_id','Impressions']].groupby(['xyz_campaign_id'],as_index=False).sum()"
   ]
  },
  {
   "cell_type": "code",
   "execution_count": 21,
   "id": "ea408983-9bc8-4216-b954-327f76ad7946",
   "metadata": {},
   "outputs": [
    {
     "name": "stdout",
     "output_type": "stream",
     "text": [
      "3052003 87\n"
     ]
    }
   ],
   "source": [
    "print(conv[\"Impressions\"].max(),conv[\"Impressions\"].min())"
   ]
  },
  {
   "cell_type": "code",
   "execution_count": 21,
   "id": "78fc1b9f-3187-452d-8d87-a204c4aac352",
   "metadata": {},
   "outputs": [
    {
     "name": "stdout",
     "output_type": "stream",
     "text": [
      "691\n"
     ]
    },
    {
     "data": {
      "text/plain": [
       "<Axes: xlabel='Impressions', ylabel='Count'>"
      ]
     },
     "execution_count": 21,
     "metadata": {},
     "output_type": "execute_result"
    },
    {
     "data": {
      "image/png": "[encoded data removed]",
      "text/plain": [
       "<Figure size 1200x600 with 1 Axes>"
      ]
     },
     "metadata": {},
     "output_type": "display_data"
    }
   ],
   "source": [
    "a=np.log(conv.groupby('fb_campaign_id')[\"Impressions\"].sum())\n",
    "print(len(a))\n",
    "sns.histplot(x=a, bins=50)"
   ]
  },
  {
   "cell_type": "code",
   "execution_count": 7,
   "id": "31148b7b-c256-47bf-ab6d-b7ab31a4d34d",
   "metadata": {},
   "outputs": [
    {
     "data": {
      "text/html": [
       "<div>\n",
       "<style scoped>\n",
       "    .dataframe tbody tr th:only-of-type {\n",
       "        vertical-align: middle;\n",
       "    }\n",
       "\n",
       "    .dataframe tbody tr th {\n",
       "        vertical-align: top;\n",
       "    }\n",
       "\n",
       "    .dataframe thead th {\n",
       "        text-align: right;\n",
       "    }\n",
       "</style>\n",
       "<table border=\"1\" class=\"dataframe\">\n",
       "  <thead>\n",
       "    <tr style=\"text-align: right;\">\n",
       "      <th></th>\n",
       "      <th>xyz_campaign_id</th>\n",
       "      <th>fb_campaign_id</th>\n",
       "      <th>Impressions</th>\n",
       "      <th>Imp_log</th>\n",
       "    </tr>\n",
       "  </thead>\n",
       "  <tbody>\n",
       "    <tr>\n",
       "      <th>0</th>\n",
       "      <td>916</td>\n",
       "      <td>103916</td>\n",
       "      <td>7350</td>\n",
       "      <td>8.902456</td>\n",
       "    </tr>\n",
       "    <tr>\n",
       "      <th>1</th>\n",
       "      <td>916</td>\n",
       "      <td>103917</td>\n",
       "      <td>17861</td>\n",
       "      <td>9.790375</td>\n",
       "    </tr>\n",
       "    <tr>\n",
       "      <th>2</th>\n",
       "      <td>916</td>\n",
       "      <td>103920</td>\n",
       "      <td>693</td>\n",
       "      <td>6.541030</td>\n",
       "    </tr>\n",
       "    <tr>\n",
       "      <th>3</th>\n",
       "      <td>916</td>\n",
       "      <td>103928</td>\n",
       "      <td>8392</td>\n",
       "      <td>9.035034</td>\n",
       "    </tr>\n",
       "    <tr>\n",
       "      <th>4</th>\n",
       "      <td>916</td>\n",
       "      <td>103929</td>\n",
       "      <td>1915</td>\n",
       "      <td>7.557473</td>\n",
       "    </tr>\n",
       "    <tr>\n",
       "      <th>...</th>\n",
       "      <td>...</td>\n",
       "      <td>...</td>\n",
       "      <td>...</td>\n",
       "      <td>...</td>\n",
       "    </tr>\n",
       "    <tr>\n",
       "      <th>686</th>\n",
       "      <td>1178</td>\n",
       "      <td>179977</td>\n",
       "      <td>1129773</td>\n",
       "      <td>13.937527</td>\n",
       "    </tr>\n",
       "    <tr>\n",
       "      <th>687</th>\n",
       "      <td>1178</td>\n",
       "      <td>179978</td>\n",
       "      <td>637549</td>\n",
       "      <td>13.365386</td>\n",
       "    </tr>\n",
       "    <tr>\n",
       "      <th>688</th>\n",
       "      <td>1178</td>\n",
       "      <td>179979</td>\n",
       "      <td>151531</td>\n",
       "      <td>11.928546</td>\n",
       "    </tr>\n",
       "    <tr>\n",
       "      <th>689</th>\n",
       "      <td>1178</td>\n",
       "      <td>179981</td>\n",
       "      <td>790253</td>\n",
       "      <td>13.580108</td>\n",
       "    </tr>\n",
       "    <tr>\n",
       "      <th>690</th>\n",
       "      <td>1178</td>\n",
       "      <td>179982</td>\n",
       "      <td>513161</td>\n",
       "      <td>13.148345</td>\n",
       "    </tr>\n",
       "  </tbody>\n",
       "</table>\n",
       "<p>691 rows × 4 columns</p>\n",
       "</div>"
      ],
      "text/plain": [
       "     xyz_campaign_id  fb_campaign_id  Impressions    Imp_log\n",
       "0                916          103916         7350   8.902456\n",
       "1                916          103917        17861   9.790375\n",
       "2                916          103920          693   6.541030\n",
       "3                916          103928         8392   9.035034\n",
       "4                916          103929         1915   7.557473\n",
       "..               ...             ...          ...        ...\n",
       "686             1178          179977      1129773  13.937527\n",
       "687             1178          179978       637549  13.365386\n",
       "688             1178          179979       151531  11.928546\n",
       "689             1178          179981       790253  13.580108\n",
       "690             1178          179982       513161  13.148345\n",
       "\n",
       "[691 rows x 4 columns]"
      ]
     },
     "execution_count": 7,
     "metadata": {},
     "output_type": "execute_result"
    }
   ],
   "source": [
    "conv_gr=conv[['xyz_campaign_id','fb_campaign_id','Impressions']].groupby(['xyz_campaign_id','fb_campaign_id'],as_index=False).sum()\n",
    "conv_gr[\"Imp_log\"]=np.log(conv_gr[\"Impressions\"])\n",
    "conv_gr"
   ]
  },
  {
   "cell_type": "code",
   "execution_count": 8,
   "id": "044c2085-31e2-4bca-9fd7-cdf7afaa632c",
   "metadata": {},
   "outputs": [
    {
     "data": {
      "text/plain": [
       "<Axes: xlabel='Imp_log', ylabel='Count'>"
      ]
     },
     "execution_count": 8,
     "metadata": {},
     "output_type": "execute_result"
    },
    {
     "data": {
      "image/png": "[encoded data removed]",
      "text/plain": [
       "<Figure size 1200x600 with 1 Axes>"
      ]
     },
     "metadata": {},
     "output_type": "display_data"
    }
   ],
   "source": [
    "sns.histplot(data=conv_gr,x=\"Imp_log\", hue='xyz_campaign_id', palette=\"pastel\")"
   ]
  },
  {
   "cell_type": "code",
   "execution_count": 46,
   "id": "3244f6e5-f799-4ced-92da-9e4a67ebb63e",
   "metadata": {},
   "outputs": [],
   "source": [
    "features=conv[['xyz_campaign_id','fb_campaign_id','Impressions']].copy()\n",
    "from scipy.cluster.hierarchy import dendrogram, linkage"
   ]
  },
  {
   "cell_type": "code",
   "execution_count": 49,
   "id": "7692bee9-4620-48d1-b90e-cb82169e219c",
   "metadata": {},
   "outputs": [],
   "source": [
    "from sklearn.preprocessing import StandardScaler\n",
    "autoscaler = StandardScaler()\n",
    "features = autoscaler.fit_transform(features)\n",
    "linked = linkage(features, method = 'ward') "
   ]
  },
  {
   "cell_type": "code",
   "execution_count": 52,
   "id": "c0fd04f8-69b2-4674-b27a-88c40012be32",
   "metadata": {},
   "outputs": [
    {
     "data": {
      "image/png": "[encoded data removed]",
      "text/plain": [
       "<Figure size 500x500 with 1 Axes>"
      ]
     },
     "metadata": {},
     "output_type": "display_data"
    }
   ],
   "source": [
    "plt.figure(figsize=(5, 5))  \n",
    "\n",
    "dendrogram(linked, orientation='top')\n",
    "\n",
    "plt.show() "
   ]
  },
  {
   "cell_type": "markdown",
   "id": "b8b22ab0-bf2a-46c7-99f4-a9e898a1d49b",
   "metadata": {},
   "source": [
    "**Распределение бимодальное**"
   ]
  },
  {
   "cell_type": "markdown",
   "id": "55f5acc5",
   "metadata": {},
   "source": [
    "### 3"
   ]
  },
  {
   "cell_type": "markdown",
   "id": "5fdc0515",
   "metadata": {},
   "source": [
    "Теперь посчитаем ещё несколько полезных метрик. Первая – CTR (click-through rate), которая показывает кликабельность, т.е. отношение числа кликов к количеству показов.\n",
    "\n",
    "\n",
    "Создайте новую колонку, затем посмотрите на описательные статистики. В качестве ответа укажите **ad_id объявления с наибольшим CTR**."
   ]
  },
  {
   "cell_type": "code",
   "execution_count": 55,
   "id": "37716f07",
   "metadata": {},
   "outputs": [],
   "source": [
    "conv['ctr'] = conv[\"Clicks\"] / conv['Impressions']"
   ]
  },
  {
   "cell_type": "code",
   "execution_count": 56,
   "id": "64a08fd8",
   "metadata": {},
   "outputs": [
    {
     "data": {
      "text/plain": [
       "count    1143.000000\n",
       "mean        0.000164\n",
       "std         0.000115\n",
       "min         0.000000\n",
       "25%         0.000100\n",
       "50%         0.000160\n",
       "75%         0.000234\n",
       "max         0.001059\n",
       "Name: ctr, dtype: float64"
      ]
     },
     "execution_count": 56,
     "metadata": {},
     "output_type": "execute_result"
    }
   ],
   "source": [
    "conv['ctr'].describe()"
   ]
  },
  {
   "cell_type": "markdown",
   "id": "4b3e8fc0-dc0b-42c4-a02f-151001a97dca",
   "metadata": {},
   "source": [
    "Min-0, есть объявления на которые никто не кликал =("
   ]
  },
  {
   "cell_type": "code",
   "execution_count": 58,
   "id": "dcc2e0a5-da16-44d2-8c2c-7f7c8fa401ef",
   "metadata": {},
   "outputs": [
    {
     "data": {
      "text/plain": [
       "150"
      ]
     },
     "execution_count": 58,
     "metadata": {},
     "output_type": "execute_result"
    }
   ],
   "source": [
    "conv['ctr'].idxmax()"
   ]
  },
  {
   "cell_type": "code",
   "execution_count": 59,
   "id": "a6cfe02f",
   "metadata": {},
   "outputs": [
    {
     "data": {
      "text/plain": [
       "738637"
      ]
     },
     "execution_count": 59,
     "metadata": {},
     "output_type": "execute_result"
    }
   ],
   "source": [
    "conv['ad_id'].iloc[conv['ctr'].idxmax()]"
   ]
  },
  {
   "cell_type": "markdown",
   "id": "c74ab8a7",
   "metadata": {},
   "source": [
    "### 4"
   ]
  },
  {
   "cell_type": "markdown",
   "id": "c9986619",
   "metadata": {},
   "source": [
    "Визуализируйте CTR с разбивкой по номеру рекламной кампании (xyz_campaign_id). \n",
    "Какому графику соответствует распределение CTR кампании 916?\n",
    "\n",
    "Note: параметр bins=20."
   ]
  },
  {
   "cell_type": "code",
   "execution_count": 61,
   "id": "d823a6fb",
   "metadata": {},
   "outputs": [
    {
     "data": {
      "text/plain": [
       "<Axes: xlabel='ctr', ylabel='Count'>"
      ]
     },
     "execution_count": 61,
     "metadata": {},
     "output_type": "execute_result"
    },
    {
     "data": {
      "image/png": "[encoded data removed]",
      "text/plain": [
       "<Figure size 1200x600 with 1 Axes>"
      ]
     },
     "metadata": {},
     "output_type": "display_data"
    }
   ],
   "source": [
    "sns.histplot(data=conv,x='ctr', hue='xyz_campaign_id')"
   ]
  },
  {
   "cell_type": "markdown",
   "id": "cb15b0c4",
   "metadata": {},
   "source": [
    "### 5"
   ]
  },
  {
   "cell_type": "markdown",
   "id": "76cfc786-819f-429f-a8b8-bd8140d834f0",
   "metadata": {},
   "source": [
    "CPC (cost-per-click) – стоимость за клик пользователя по объявлению. Рассчитывается путём деления суммы потраченных денег на общее число кликов:\n",
    "\n",
    "\n",
    "Выведите описательные статистики для новой переменной, посмотрите на форму распределения. "
   ]
  },
  {
   "cell_type": "code",
   "execution_count": 8,
   "id": "f5259acd",
   "metadata": {},
   "outputs": [],
   "source": [
    "conv['cpc'] = conv['Spent'] / conv['Clicks']"
   ]
  },
  {
   "cell_type": "code",
   "execution_count": 71,
   "id": "a9d1f83a",
   "metadata": {},
   "outputs": [
    {
     "data": {
      "text/plain": [
       "count    936.000000\n",
       "mean       1.499347\n",
       "std        0.232879\n",
       "min        0.180000\n",
       "25%        1.390000\n",
       "50%        1.498273\n",
       "75%        1.644364\n",
       "max        2.212000\n",
       "Name: cpc, dtype: float64"
      ]
     },
     "execution_count": 71,
     "metadata": {},
     "output_type": "execute_result"
    }
   ],
   "source": [
    "conv['cpc'].describe()"
   ]
  },
  {
   "cell_type": "code",
   "execution_count": null,
   "id": "e99e3f76-438d-4ea4-8058-c9a09aa44eb8",
   "metadata": {},
   "outputs": [],
   "source": [
    "#Межквартильный размах ( IQR ) — это разница между 75-м и 25-м процентилем данных.\n",
    "#Обратите внимание, что в столбце могут встретиться NaN. Если вы используете функцию iqr из scipy, то следует указать аргумент nan_policy='omit', чтобы их проигнорировать. При построении графика необходимо использовать метод .dropna()."
   ]
  },
  {
   "cell_type": "code",
   "execution_count": 87,
   "id": "36aa7bd4",
   "metadata": {},
   "outputs": [
    {
     "data": {
      "text/plain": [
       "0.25"
      ]
     },
     "execution_count": 87,
     "metadata": {},
     "output_type": "execute_result"
    }
   ],
   "source": [
    "round(sts.iqr(conv['cpc'], nan_policy='omit'), 2)"
   ]
  },
  {
   "cell_type": "markdown",
   "id": "40b3384b",
   "metadata": {},
   "source": [
    "### 6"
   ]
  },
  {
   "cell_type": "markdown",
   "id": "fa3393d8",
   "metadata": {},
   "source": [
    "Визуализируйте CPC с разбивкой по полу пользователей, которым были показаны объявления. Какой график получился?"
   ]
  },
  {
   "cell_type": "code",
   "execution_count": 15,
   "id": "d0c09a9d",
   "metadata": {},
   "outputs": [
    {
     "data": {
      "text/plain": [
       "<matplotlib.legend.Legend at 0x2a5f83d7c90>"
      ]
     },
     "execution_count": 15,
     "metadata": {},
     "output_type": "execute_result"
    },
    {
     "data": {
      "image/png": "[encoded data removed]",
      "text/plain": [
       "<Figure size 1200x600 with 1 Axes>"
      ]
     },
     "metadata": {},
     "output_type": "display_data"
    }
   ],
   "source": [
    "#.dropna()\n",
    "sns.histplot(data=conv.query(\"gender=='M'\"),x='cpc', kde=True)\n",
    "sns.histplot(data=conv.query(\"gender=='F'\"),x='cpc',kde=True)\n",
    "plt.legend(['M',  'F'])"
   ]
  },
  {
   "cell_type": "markdown",
   "id": "00918e6e",
   "metadata": {},
   "source": [
    "### 7"
   ]
  },
  {
   "cell_type": "markdown",
   "id": "46359fc8",
   "metadata": {},
   "source": [
    "Конверсия (conversion rate) – отношение числа пользователей, совершивших целевое действие на определенном этапе, к общему числу тех, кто дошел до данного этапа.\n",
    "\n",
    "Посчитайте конверсию из клика в покупку. В качестве ответа укажите конверсию для объявления 1121814 в процентах, округлив значение до 2 знаков после точки."
   ]
  },
  {
   "cell_type": "code",
   "execution_count": 69,
   "id": "372e2052",
   "metadata": {},
   "outputs": [],
   "source": [
    "conv['cr_app'] = (conv[\"Approved_Conversion'\"]/ conv[\"Clicks\"]).mul(100)"
   ]
  },
  {
   "cell_type": "code",
   "execution_count": 71,
   "id": "2989ceb4",
   "metadata": {},
   "outputs": [
    {
     "data": {
      "text/plain": [
       "860    3.09\n",
       "Name: cr_app, dtype: float64"
      ]
     },
     "execution_count": 71,
     "metadata": {},
     "output_type": "execute_result"
    }
   ],
   "source": [
    "round(conv.query('ad_id == 1121814')['cr_app'], 2)"
   ]
  },
  {
   "cell_type": "code",
   "execution_count": null,
   "id": "827f5600-324d-4e32-806a-e6ec7165e8c4",
   "metadata": {},
   "outputs": [],
   "source": []
  }
 ],
 "metadata": {
  "kernelspec": {
   "display_name": "Python 3 (ipykernel)",
   "language": "python",
   "name": "python3"
  },
  "language_info": {
   "codemirror_mode": {
    "name": "ipython",
    "version": 3
   },
   "file_extension": ".py",
   "mimetype": "text/x-python",
   "name": "python",
   "nbconvert_exporter": "python",
   "pygments_lexer": "ipython3",
   "version": "3.11.9"
  }
 },
 "nbformat": 4,
 "nbformat_minor": 5
}
