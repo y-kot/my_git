{
 "cells": [
  {
   "cell_type": "markdown",
   "id": "a8a73a20",
   "metadata": {},
   "source": [
    "# СРАВНЕНИЕ СРЕДНИХ ЗНАЧЕНИЙ (ДИСПЕРСИОННЫЙ АНАЛИЗ)"
   ]
  },
  {
   "cell_type": "markdown",
   "id": "0b9d3929",
   "metadata": {},
   "source": [
    "На этот раз ситуация следующая: вы работаете в приложении по доставке готовых продуктов. К вам пришел коллега с результатами двух тестов:\n",
    "\n",
    "· **В первом тестировали разрешение фотографий** блюд в приложении: пользователям показывались либо прямоугольные, либо новые квадратные   \n",
    "· **Во втором: была обновлена кнопка заказа**, и часть юзеров видела старый вариант, а часть – новый\n",
    "Коллега пришел к вам с просьбой: он посмотрел на графики и предположил, что среди групп могут встретиться различия. Ваша задача – помочь ему проверить гипотезы, сделать соответствующие выводы на основе статистических тестов и принять решения.\n",
    "\n",
    "## Задания  \n",
    "\n",
    "1. Выберите метод, который предположительно подойдет в первом вопросе.  \n",
    "2. Проверьте, являются ли дисперсии внутри групп гомогенными.  \n",
    "3. Проведите тест на нормальность распределения.  \n",
    "4. Сравните средние в представленных группах.  \n",
    "5. Используйте критерий Тьюки и определите, между какими группами есть статистически значимые различия.   \n",
    "6. Примите решение: какие картинки в итоге будем использовать?  \n",
    "7. Выберите метод для второго теста.  \n",
    "8. Визуализируйте распределение events для контрольной и тестовой групп.   \n",
    "9. Посмотрите на описательные статистики events в разбивке по группе и по сегменту пользователя.   \n",
    "10. Выберите формулу для модели, проведите тест.  \n",
    "11. Визуализируйте результаты теста и заполните пропуски.  \n",
    "\n",
    "## Описание данных\n",
    "\n",
    "`5_task_1`:  \n",
    "\n",
    "· id – id клиента в эксперименте  \n",
    "· group – в каком разрешении показывались картинки **3 варианта фичи**:(A – прямоугольные 16:9, B – квадратные, C – прямоугольные 12:4)  \n",
    "· events – сколько блюд суммарно было заказано за период  \n",
    "\n",
    "`5_task_2`:\n",
    "\n",
    "· id – id клиента в эксперименте  \n",
    "· segment – сегмент (high/low) **возможно связанный с версией кнопки фактор**\n",
    "\n",
    "· group – вид кнопки **2 варианта фичи** (control – старая версия, test – новая версия)  \n",
    "· events – сколько блюд суммарно было заказано за период"
   ]
  },
  {
   "cell_type": "code",
   "execution_count": 4,
   "id": "e797406c",
   "metadata": {},
   "outputs": [],
   "source": [
    "import pandas as pd\n",
    "import numpy as np\n",
    "import seaborn as sns\n",
    "import matplotlib.pyplot as plt\n",
    "\n",
    "import pingouin as pg\n",
    "\n",
    "import scipy.stats as stats\n",
    "import statsmodels.formula.api as smf\n",
    "from statsmodels.stats.anova import anova_lm\n",
    "from statsmodels.stats.multicomp import pairwise_tukeyhsd\n",
    "\n",
    "sns.set(rc={'figure.figsize':(10,5)}, style='whitegrid')"
   ]
  },
  {
   "cell_type": "markdown",
   "id": "954c3d54",
   "metadata": {},
   "source": [
    "### 1"
   ]
  },
  {
   "cell_type": "markdown",
   "id": "baee86d9",
   "metadata": {},
   "source": [
    "Итак, первая задача: нужно проверить, какой формат фотографий блюд является наилучшим, т.е. в какой из групп в среднем покупали больше всего. Всего пользователям показывались три варианта:\n",
    "\n",
    "· A – прямоугольные 16:9\n",
    "· B – квадратные\n",
    "· C – прямоугольные 12:4\n",
    "Каким статистическим тестом нужно воспользоваться для сравнения средних в данном случае?\n",
    "\n",
    "__· ANOVA однофакторный (смотрим зависимость от 1 фактора(размер фотографии) в 3 вариантах)__  \n",
    "· посчитаю хи-квадрат  \n",
    "· t-test  \n",
    "· сделаю вывод исключительно по графику"
   ]
  },
  {
   "cell_type": "markdown",
   "id": "cd8f3f68",
   "metadata": {},
   "source": [
    "### 2"
   ]
  },
  {
   "cell_type": "markdown",
   "id": "28a6e88d",
   "metadata": {},
   "source": [
    "Проверьте, являются ли дисперсии внутри групп примерно одинаковыми (гомогенными) **с помощью теста Левена**.\n",
    "\n",
    "· p-value < 0.05, отклоняем нулевую гипотезу  \n",
    "· p-value < 0.05, не отклоняем нулевую гипотезу  \n",
    "**· p-value > 0.05, не отклоняем нулевую гипотезу-различие дисперсии между данными группами не значимо**\n",
    "\n",
    "· p-value > 0.05, отклоняем нулевую гипотезу  "
   ]
  },
  {
   "cell_type": "code",
   "execution_count": 10,
   "id": "1a0b1e0c",
   "metadata": {},
   "outputs": [],
   "source": [
    "exp1 = pd.read_csv('5_task_1.csv')"
   ]
  },
  {
   "cell_type": "code",
   "execution_count": 6,
   "id": "20015464",
   "metadata": {},
   "outputs": [
    {
     "data": {
      "text/html": [
       "<div>\n",
       "<style scoped>\n",
       "    .dataframe tbody tr th:only-of-type {\n",
       "        vertical-align: middle;\n",
       "    }\n",
       "\n",
       "    .dataframe tbody tr th {\n",
       "        vertical-align: top;\n",
       "    }\n",
       "\n",
       "    .dataframe thead th {\n",
       "        text-align: right;\n",
       "    }\n",
       "</style>\n",
       "<table border=\"1\" class=\"dataframe\">\n",
       "  <thead>\n",
       "    <tr style=\"text-align: right;\">\n",
       "      <th></th>\n",
       "      <th>id</th>\n",
       "      <th>group</th>\n",
       "      <th>events</th>\n",
       "    </tr>\n",
       "  </thead>\n",
       "  <tbody>\n",
       "    <tr>\n",
       "      <th>0</th>\n",
       "      <td>16046</td>\n",
       "      <td>A</td>\n",
       "      <td>14</td>\n",
       "    </tr>\n",
       "    <tr>\n",
       "      <th>1</th>\n",
       "      <td>18712</td>\n",
       "      <td>A</td>\n",
       "      <td>41</td>\n",
       "    </tr>\n",
       "    <tr>\n",
       "      <th>2</th>\n",
       "      <td>3268</td>\n",
       "      <td>A</td>\n",
       "      <td>30</td>\n",
       "    </tr>\n",
       "    <tr>\n",
       "      <th>3</th>\n",
       "      <td>22633</td>\n",
       "      <td>A</td>\n",
       "      <td>37</td>\n",
       "    </tr>\n",
       "    <tr>\n",
       "      <th>4</th>\n",
       "      <td>28071</td>\n",
       "      <td>A</td>\n",
       "      <td>38</td>\n",
       "    </tr>\n",
       "  </tbody>\n",
       "</table>\n",
       "</div>"
      ],
      "text/plain": [
       "      id group  events\n",
       "0  16046     A      14\n",
       "1  18712     A      41\n",
       "2   3268     A      30\n",
       "3  22633     A      37\n",
       "4  28071     A      38"
      ]
     },
     "execution_count": 6,
     "metadata": {},
     "output_type": "execute_result"
    }
   ],
   "source": [
    "exp1.head()"
   ]
  },
  {
   "cell_type": "code",
   "execution_count": 21,
   "id": "b6358962",
   "metadata": {},
   "outputs": [],
   "source": [
    "A = exp1.query('group == \"A\"')['events']\n",
    "B = exp1.query('group == \"B\"')['events']\n",
    "C = exp1.query('group == \"C\"')['events']"
   ]
  },
  {
   "cell_type": "code",
   "execution_count": 17,
   "id": "e66a21bd",
   "metadata": {},
   "outputs": [
    {
     "data": {
      "text/plain": [
       "LeveneResult(statistic=2.2622596339318037, pvalue=0.1041327199523974)"
      ]
     },
     "execution_count": 17,
     "metadata": {},
     "output_type": "execute_result"
    }
   ],
   "source": [
    "stats.levene(A, B, C)"
   ]
  },
  {
   "cell_type": "code",
   "execution_count": 20,
   "id": "ec52a13b-1518-475d-b127-4ed401872b9e",
   "metadata": {},
   "outputs": [
    {
     "data": {
      "text/html": [
       "<div>\n",
       "<style scoped>\n",
       "    .dataframe tbody tr th:only-of-type {\n",
       "        vertical-align: middle;\n",
       "    }\n",
       "\n",
       "    .dataframe tbody tr th {\n",
       "        vertical-align: top;\n",
       "    }\n",
       "\n",
       "    .dataframe thead th {\n",
       "        text-align: right;\n",
       "    }\n",
       "</style>\n",
       "<table border=\"1\" class=\"dataframe\">\n",
       "  <thead>\n",
       "    <tr style=\"text-align: right;\">\n",
       "      <th></th>\n",
       "      <th>W</th>\n",
       "      <th>pval</th>\n",
       "      <th>equal_var</th>\n",
       "    </tr>\n",
       "  </thead>\n",
       "  <tbody>\n",
       "    <tr>\n",
       "      <th>levene</th>\n",
       "      <td>2.26226</td>\n",
       "      <td>0.104133</td>\n",
       "      <td>True</td>\n",
       "    </tr>\n",
       "  </tbody>\n",
       "</table>\n",
       "</div>"
      ],
      "text/plain": [
       "              W      pval  equal_var\n",
       "levene  2.26226  0.104133       True"
      ]
     },
     "execution_count": 20,
     "metadata": {},
     "output_type": "execute_result"
    }
   ],
   "source": [
    "pg.homoscedasticity(data=exp1, dv='events', group='group')"
   ]
  },
  {
   "cell_type": "markdown",
   "id": "fef18074",
   "metadata": {},
   "source": [
    "### 3"
   ]
  },
  {
   "cell_type": "markdown",
   "id": "adfe8ae1",
   "metadata": {},
   "source": [
    "Также убедитесь, что данные распределены нормально, применив тест Шапиро-Уилка. Перед применением критерия при проверке на нормальность обязательно сделайте семплирование (1000 наблюдений), так как на больших выборках могут получаться неверные результаты. Для воспроизводимости результата используйте параметр random_state=17 в методе sample.\n",
    "\n",
    "Дополнительно: попробуйте посчитать тест Шапиро-Уилка без использования метода sample. Сравните  результат с normaltest, а также qq-графиками. Какой вывод можно сделать по совокупности этих методов?\n",
    "\n",
    "Выберите верные утверждения:\n",
    "\n",
    "__· Распределение events в группе B является нормальным__    \n",
    "__· Распределение events в группе С является нормальным__    \n",
    "__· Распределение events в группе A является нормальным__    \n",
    "· Все утверждения не верны"
   ]
  },
  {
   "cell_type": "code",
   "execution_count": 13,
   "id": "dfb574f3",
   "metadata": {},
   "outputs": [
    {
     "data": {
      "text/plain": [
       "ShapiroResult(statistic=0.9973138685756308, pvalue=0.0958664550339529)"
      ]
     },
     "execution_count": 13,
     "metadata": {},
     "output_type": "execute_result"
    }
   ],
   "source": [
    "stats.shapiro(A.sample(1000, random_state=17))"
   ]
  },
  {
   "cell_type": "code",
   "execution_count": 14,
   "id": "c3f07ffd",
   "metadata": {},
   "outputs": [
    {
     "data": {
      "text/plain": [
       "ShapiroResult(statistic=0.9980819475724109, pvalue=0.3186658905454146)"
      ]
     },
     "execution_count": 14,
     "metadata": {},
     "output_type": "execute_result"
    }
   ],
   "source": [
    "stats.shapiro(B.sample(1000, random_state=17))"
   ]
  },
  {
   "cell_type": "code",
   "execution_count": 15,
   "id": "4f8b7a94",
   "metadata": {},
   "outputs": [
    {
     "data": {
      "text/plain": [
       "ShapiroResult(statistic=0.9981201274607922, pvalue=0.3366435414670874)"
      ]
     },
     "execution_count": 15,
     "metadata": {},
     "output_type": "execute_result"
    }
   ],
   "source": [
    "stats.shapiro(C.sample(1000, random_state=17))"
   ]
  },
  {
   "cell_type": "code",
   "execution_count": 18,
   "id": "473b2654-b758-49b2-bfd2-657a1613fec0",
   "metadata": {},
   "outputs": [
    {
     "data": {
      "text/html": [
       "<div>\n",
       "<style scoped>\n",
       "    .dataframe tbody tr th:only-of-type {\n",
       "        vertical-align: middle;\n",
       "    }\n",
       "\n",
       "    .dataframe tbody tr th {\n",
       "        vertical-align: top;\n",
       "    }\n",
       "\n",
       "    .dataframe thead th {\n",
       "        text-align: right;\n",
       "    }\n",
       "</style>\n",
       "<table border=\"1\" class=\"dataframe\">\n",
       "  <thead>\n",
       "    <tr style=\"text-align: right;\">\n",
       "      <th></th>\n",
       "      <th>W</th>\n",
       "      <th>pval</th>\n",
       "      <th>normal</th>\n",
       "    </tr>\n",
       "    <tr>\n",
       "      <th>group</th>\n",
       "      <th></th>\n",
       "      <th></th>\n",
       "      <th></th>\n",
       "    </tr>\n",
       "  </thead>\n",
       "  <tbody>\n",
       "    <tr>\n",
       "      <th>A</th>\n",
       "      <td>2.103460</td>\n",
       "      <td>0.349333</td>\n",
       "      <td>True</td>\n",
       "    </tr>\n",
       "    <tr>\n",
       "      <th>B</th>\n",
       "      <td>0.841072</td>\n",
       "      <td>0.656695</td>\n",
       "      <td>True</td>\n",
       "    </tr>\n",
       "    <tr>\n",
       "      <th>C</th>\n",
       "      <td>3.243726</td>\n",
       "      <td>0.197530</td>\n",
       "      <td>True</td>\n",
       "    </tr>\n",
       "  </tbody>\n",
       "</table>\n",
       "</div>"
      ],
      "text/plain": [
       "              W      pval  normal\n",
       "group                            \n",
       "A      2.103460  0.349333    True\n",
       "B      0.841072  0.656695    True\n",
       "C      3.243726  0.197530    True"
      ]
     },
     "execution_count": 18,
     "metadata": {},
     "output_type": "execute_result"
    }
   ],
   "source": [
    "pg.normality(data=exp1, dv=\"events\", group='group',method=\"normaltest\")"
   ]
  },
  {
   "cell_type": "code",
   "execution_count": 24,
   "id": "bb4f8733-5234-4b34-a0c9-6d8fe68a062a",
   "metadata": {},
   "outputs": [
    {
     "data": {
      "text/plain": [
       "<Axes: xlabel='Theoretical quantiles', ylabel='Ordered quantiles'>"
      ]
     },
     "execution_count": 24,
     "metadata": {},
     "output_type": "execute_result"
    },
    {
     "data": {
      "image/png": "[encoded data removed]",
      "text/plain": [
       "<Figure size 1000x500 with 1 Axes>"
      ]
     },
     "metadata": {},
     "output_type": "display_data"
    }
   ],
   "source": [
    "pg.qqplot(exp1.query('group == \"A\"')['events'])# можно так и другие группы просмотреть-нормально распределено"
   ]
  },
  {
   "cell_type": "markdown",
   "id": "0ff072e1",
   "metadata": {},
   "source": [
    "### 4"
   ]
  },
  {
   "cell_type": "markdown",
   "id": "adc7f497",
   "metadata": {},
   "source": [
    "Самое время провести множественное сравнение средних! \n",
    "Передадим функции **ANOVA из пакета Pingouin** группы заказов А, B, C.\n",
    "Значение статистики равно (окр. до целого) __2886__,\n",
    "р-уровень значимости составил __0__. Значит группы различаются."
   ]
  },
  {
   "cell_type": "code",
   "execution_count": 25,
   "id": "d2c1af42-c4ca-42c6-a00b-e08786966314",
   "metadata": {},
   "outputs": [
    {
     "data": {
      "text/html": [
       "<div>\n",
       "<style scoped>\n",
       "    .dataframe tbody tr th:only-of-type {\n",
       "        vertical-align: middle;\n",
       "    }\n",
       "\n",
       "    .dataframe tbody tr th {\n",
       "        vertical-align: top;\n",
       "    }\n",
       "\n",
       "    .dataframe thead th {\n",
       "        text-align: right;\n",
       "    }\n",
       "</style>\n",
       "<table border=\"1\" class=\"dataframe\">\n",
       "  <thead>\n",
       "    <tr style=\"text-align: right;\">\n",
       "      <th></th>\n",
       "      <th>Source</th>\n",
       "      <th>ddof1</th>\n",
       "      <th>ddof2</th>\n",
       "      <th>F</th>\n",
       "      <th>p-unc</th>\n",
       "      <th>np2</th>\n",
       "    </tr>\n",
       "  </thead>\n",
       "  <tbody>\n",
       "    <tr>\n",
       "      <th>0</th>\n",
       "      <td>group</td>\n",
       "      <td>2</td>\n",
       "      <td>29997</td>\n",
       "      <td>2886.166657</td>\n",
       "      <td>0.0</td>\n",
       "      <td>0.161377</td>\n",
       "    </tr>\n",
       "  </tbody>\n",
       "</table>\n",
       "</div>"
      ],
      "text/plain": [
       "  Source  ddof1  ddof2            F  p-unc       np2\n",
       "0  group      2  29997  2886.166657    0.0  0.161377"
      ]
     },
     "execution_count": 25,
     "metadata": {},
     "output_type": "execute_result"
    }
   ],
   "source": [
    "pg.anova(data=exp1,dv=\"events\",between=\"group\")"
   ]
  },
  {
   "cell_type": "markdown",
   "id": "de06f2a7",
   "metadata": {},
   "source": [
    "### 5"
   ]
  },
  {
   "cell_type": "markdown",
   "id": "cf58975e",
   "metadata": {},
   "source": [
    "Теперь используйте критерий Тьюки и определите, между какими группами есть статистически значимые различия. "
   ]
  },
  {
   "cell_type": "markdown",
   "id": "bb015f58",
   "metadata": {},
   "source": [
    "__· B и C__  \n",
    "__· A и C__  \n",
    "· Нет значимых  \n",
    "__· A и B__"
   ]
  },
  {
   "cell_type": "code",
   "execution_count": 33,
   "id": "8f2812eb",
   "metadata": {},
   "outputs": [
    {
     "data": {
      "text/html": [
       "<div>\n",
       "<style scoped>\n",
       "    .dataframe tbody tr th:only-of-type {\n",
       "        vertical-align: middle;\n",
       "    }\n",
       "\n",
       "    .dataframe tbody tr th {\n",
       "        vertical-align: top;\n",
       "    }\n",
       "\n",
       "    .dataframe thead th {\n",
       "        text-align: right;\n",
       "    }\n",
       "</style>\n",
       "<table border=\"1\" class=\"dataframe\">\n",
       "  <thead>\n",
       "    <tr style=\"text-align: right;\">\n",
       "      <th></th>\n",
       "      <th>A</th>\n",
       "      <th>B</th>\n",
       "      <th>mean(A)</th>\n",
       "      <th>mean(B)</th>\n",
       "      <th>diff</th>\n",
       "      <th>se</th>\n",
       "      <th>T</th>\n",
       "      <th>p-tukey</th>\n",
       "      <th>hedges</th>\n",
       "    </tr>\n",
       "  </thead>\n",
       "  <tbody>\n",
       "    <tr>\n",
       "      <th>0</th>\n",
       "      <td>A</td>\n",
       "      <td>B</td>\n",
       "      <td>29.5796</td>\n",
       "      <td>37.6136</td>\n",
       "      <td>-8.0340</td>\n",
       "      <td>0.140894</td>\n",
       "      <td>-57.021604</td>\n",
       "      <td>0.0</td>\n",
       "      <td>-0.806229</td>\n",
       "    </tr>\n",
       "    <tr>\n",
       "      <th>1</th>\n",
       "      <td>A</td>\n",
       "      <td>C</td>\n",
       "      <td>29.5796</td>\n",
       "      <td>27.4703</td>\n",
       "      <td>2.1093</td>\n",
       "      <td>0.140894</td>\n",
       "      <td>14.970833</td>\n",
       "      <td>0.0</td>\n",
       "      <td>0.210514</td>\n",
       "    </tr>\n",
       "    <tr>\n",
       "      <th>2</th>\n",
       "      <td>B</td>\n",
       "      <td>C</td>\n",
       "      <td>37.6136</td>\n",
       "      <td>27.4703</td>\n",
       "      <td>10.1433</td>\n",
       "      <td>0.140894</td>\n",
       "      <td>71.992436</td>\n",
       "      <td>0.0</td>\n",
       "      <td>1.024138</td>\n",
       "    </tr>\n",
       "  </tbody>\n",
       "</table>\n",
       "</div>"
      ],
      "text/plain": [
       "   A  B  mean(A)  mean(B)     diff        se          T  p-tukey    hedges\n",
       "0  A  B  29.5796  37.6136  -8.0340  0.140894 -57.021604      0.0 -0.806229\n",
       "1  A  C  29.5796  27.4703   2.1093  0.140894  14.970833      0.0  0.210514\n",
       "2  B  C  37.6136  27.4703  10.1433  0.140894  71.992436      0.0  1.024138"
      ]
     },
     "execution_count": 33,
     "metadata": {},
     "output_type": "execute_result"
    }
   ],
   "source": [
    "pg.pairwise_tukey(data=exp1,dv='events', between=\"group\")"
   ]
  },
  {
   "cell_type": "code",
   "execution_count": 29,
   "id": "6eabc019-8122-4ac1-8f2a-66288a2444cd",
   "metadata": {},
   "outputs": [
    {
     "data": {
      "text/html": [
       "<div>\n",
       "<style scoped>\n",
       "    .dataframe tbody tr th:only-of-type {\n",
       "        vertical-align: middle;\n",
       "    }\n",
       "\n",
       "    .dataframe tbody tr th {\n",
       "        vertical-align: top;\n",
       "    }\n",
       "\n",
       "    .dataframe thead th {\n",
       "        text-align: right;\n",
       "    }\n",
       "</style>\n",
       "<table border=\"1\" class=\"dataframe\">\n",
       "  <thead>\n",
       "    <tr style=\"text-align: right;\">\n",
       "      <th></th>\n",
       "      <th>A</th>\n",
       "      <th>B</th>\n",
       "      <th>mean(A)</th>\n",
       "      <th>mean(B)</th>\n",
       "      <th>diff</th>\n",
       "      <th>se</th>\n",
       "      <th>T</th>\n",
       "      <th>df</th>\n",
       "      <th>pval</th>\n",
       "      <th>hedges</th>\n",
       "    </tr>\n",
       "  </thead>\n",
       "  <tbody>\n",
       "    <tr>\n",
       "      <th>0</th>\n",
       "      <td>A</td>\n",
       "      <td>B</td>\n",
       "      <td>29.5796</td>\n",
       "      <td>37.6136</td>\n",
       "      <td>-8.0340</td>\n",
       "      <td>0.140920</td>\n",
       "      <td>-57.011134</td>\n",
       "      <td>19987.258491</td>\n",
       "      <td>6.412648e-13</td>\n",
       "      <td>-0.806229</td>\n",
       "    </tr>\n",
       "    <tr>\n",
       "      <th>1</th>\n",
       "      <td>A</td>\n",
       "      <td>C</td>\n",
       "      <td>29.5796</td>\n",
       "      <td>27.4703</td>\n",
       "      <td>2.1093</td>\n",
       "      <td>0.141696</td>\n",
       "      <td>14.886135</td>\n",
       "      <td>19995.116233</td>\n",
       "      <td>6.349254e-12</td>\n",
       "      <td>0.210514</td>\n",
       "    </tr>\n",
       "    <tr>\n",
       "      <th>2</th>\n",
       "      <td>B</td>\n",
       "      <td>C</td>\n",
       "      <td>37.6136</td>\n",
       "      <td>27.4703</td>\n",
       "      <td>10.1433</td>\n",
       "      <td>0.140062</td>\n",
       "      <td>72.420220</td>\n",
       "      <td>19995.502469</td>\n",
       "      <td>0.000000e+00</td>\n",
       "      <td>1.024138</td>\n",
       "    </tr>\n",
       "  </tbody>\n",
       "</table>\n",
       "</div>"
      ],
      "text/plain": [
       "   A  B  mean(A)  mean(B)     diff        se          T            df  \\\n",
       "0  A  B  29.5796  37.6136  -8.0340  0.140920 -57.011134  19987.258491   \n",
       "1  A  C  29.5796  27.4703   2.1093  0.141696  14.886135  19995.116233   \n",
       "2  B  C  37.6136  27.4703  10.1433  0.140062  72.420220  19995.502469   \n",
       "\n",
       "           pval    hedges  \n",
       "0  6.412648e-13 -0.806229  \n",
       "1  6.349254e-12  0.210514  \n",
       "2  0.000000e+00  1.024138  "
      ]
     },
     "execution_count": 29,
     "metadata": {},
     "output_type": "execute_result"
    }
   ],
   "source": [
    "pg.pairwise_gameshowell(data=exp1, dv=\"events\", between=\"group\")# Для волнующихся о неравенстве дисперсий"
   ]
  },
  {
   "cell_type": "code",
   "execution_count": 28,
   "id": "f93e0ba6",
   "metadata": {},
   "outputs": [
    {
     "data": {
      "text/plain": [
       "Text(0, 0.5, 'Число покупок')"
      ]
     },
     "execution_count": 28,
     "metadata": {},
     "output_type": "execute_result"
    },
    {
     "data": {
      "image/png": "[encoded data removed]",
      "text/plain": [
       "<Figure size 1000x500 with 1 Axes>"
      ]
     },
     "metadata": {},
     "output_type": "display_data"
    }
   ],
   "source": [
    "sns.pointplot(x='group', y='events', data=df1, capsize=.1)\n",
    "plt.title('Число покупок и формат фотографий еды')\n",
    "plt.xlabel('Формат')\n",
    "plt.ylabel('Число покупок')"
   ]
  },
  {
   "cell_type": "markdown",
   "id": "2c171d16",
   "metadata": {},
   "source": [
    "### 6"
   ]
  },
  {
   "cell_type": "markdown",
   "id": "9ac22e81",
   "metadata": {},
   "source": [
    "Так какие картинки в итоге будем использовать?\n",
    "\n",
    "· A – Прямоугольные, 16:9  \n",
    "__· B – Квадратные (потому что среднее наибольшее и статистически значимо отличается от А & С)__  \n",
    "· C – Прямоугольные, 12:4"
   ]
  },
  {
   "cell_type": "markdown",
   "id": "f7ad2b6f",
   "metadata": {},
   "source": [
    "### 7"
   ]
  },
  {
   "cell_type": "markdown",
   "id": "d33eaf99",
   "metadata": {},
   "source": [
    "Во втором эксперименте требуется проверить, как пользователи отреагируют на изменение формата кнопки оформления заказа, с разбивкой по сегменту клиента.\n",
    "\n",
    "Какой метод скорее всего пригодится в данном случае?\n",
    "\n",
    "· t-test  \n",
    "· хи-квадрат  \n",
    "· однофакторный дисперсионный анализ  \n",
    "__· многофакторный дисперсионный анализ (смотрим зависимость от 2 факторов-сегмент и версия кнопкию)__"
   ]
  },
  {
   "cell_type": "code",
   "execution_count": 5,
   "id": "8e19586d",
   "metadata": {},
   "outputs": [],
   "source": [
    "exp2 = pd.read_csv('5_task_2.csv')"
   ]
  },
  {
   "cell_type": "code",
   "execution_count": 31,
   "id": "d8e57f4d",
   "metadata": {},
   "outputs": [
    {
     "data": {
      "text/html": [
       "<div>\n",
       "<style scoped>\n",
       "    .dataframe tbody tr th:only-of-type {\n",
       "        vertical-align: middle;\n",
       "    }\n",
       "\n",
       "    .dataframe tbody tr th {\n",
       "        vertical-align: top;\n",
       "    }\n",
       "\n",
       "    .dataframe thead th {\n",
       "        text-align: right;\n",
       "    }\n",
       "</style>\n",
       "<table border=\"1\" class=\"dataframe\">\n",
       "  <thead>\n",
       "    <tr style=\"text-align: right;\">\n",
       "      <th></th>\n",
       "      <th>id</th>\n",
       "      <th>group</th>\n",
       "      <th>segment</th>\n",
       "      <th>events</th>\n",
       "    </tr>\n",
       "  </thead>\n",
       "  <tbody>\n",
       "    <tr>\n",
       "      <th>0</th>\n",
       "      <td>83440</td>\n",
       "      <td>test</td>\n",
       "      <td>high</td>\n",
       "      <td>78.0</td>\n",
       "    </tr>\n",
       "    <tr>\n",
       "      <th>1</th>\n",
       "      <td>96723</td>\n",
       "      <td>test</td>\n",
       "      <td>high</td>\n",
       "      <td>71.0</td>\n",
       "    </tr>\n",
       "    <tr>\n",
       "      <th>2</th>\n",
       "      <td>68719</td>\n",
       "      <td>test</td>\n",
       "      <td>high</td>\n",
       "      <td>80.0</td>\n",
       "    </tr>\n",
       "    <tr>\n",
       "      <th>3</th>\n",
       "      <td>50399</td>\n",
       "      <td>test</td>\n",
       "      <td>high</td>\n",
       "      <td>80.0</td>\n",
       "    </tr>\n",
       "    <tr>\n",
       "      <th>4</th>\n",
       "      <td>95613</td>\n",
       "      <td>test</td>\n",
       "      <td>high</td>\n",
       "      <td>78.0</td>\n",
       "    </tr>\n",
       "  </tbody>\n",
       "</table>\n",
       "</div>"
      ],
      "text/plain": [
       "      id group segment  events\n",
       "0  83440  test    high    78.0\n",
       "1  96723  test    high    71.0\n",
       "2  68719  test    high    80.0\n",
       "3  50399  test    high    80.0\n",
       "4  95613  test    high    78.0"
      ]
     },
     "execution_count": 31,
     "metadata": {},
     "output_type": "execute_result"
    }
   ],
   "source": [
    "exp2.head()"
   ]
  },
  {
   "cell_type": "markdown",
   "id": "69d2c985",
   "metadata": {},
   "source": [
    "### 8"
   ]
  },
  {
   "cell_type": "markdown",
   "id": "9520c51e",
   "metadata": {},
   "source": [
    "Посмотрим на данные. Визуализируйте распределение events для контрольной и тестовой групп."
   ]
  },
  {
   "cell_type": "code",
   "execution_count": 48,
   "id": "d219d948",
   "metadata": {},
   "outputs": [
    {
     "name": "stderr",
     "output_type": "stream",
     "text": [
      "C:\\Users\\konst\\AppData\\Local\\Temp\\ipykernel_7764\\929986381.py:1: UserWarning: \n",
      "\n",
      "`distplot` is a deprecated function and will be removed in seaborn v0.14.0.\n",
      "\n",
      "Please adapt your code to use either `displot` (a figure-level function with\n",
      "similar flexibility) or `histplot` (an axes-level function for histograms).\n",
      "\n",
      "For a guide to updating your code to use the new functions, please see\n",
      "https://gist.github.com/mwaskom/de44147ed2974457ad6372750bbe5751\n",
      "\n",
      "  sns.distplot(exp2.query('group==\"control\"')['events'], kde=False, label=\"control\")\n",
      "C:\\Users\\konst\\AppData\\Local\\Temp\\ipykernel_7764\\929986381.py:2: UserWarning: \n",
      "\n",
      "`distplot` is a deprecated function and will be removed in seaborn v0.14.0.\n",
      "\n",
      "Please adapt your code to use either `displot` (a figure-level function with\n",
      "similar flexibility) or `histplot` (an axes-level function for histograms).\n",
      "\n",
      "For a guide to updating your code to use the new functions, please see\n",
      "https://gist.github.com/mwaskom/de44147ed2974457ad6372750bbe5751\n",
      "\n",
      "  sns.distplot(exp2.query('group==\"test\"')['events'], kde=False, label=\"test\")\n"
     ]
    },
    {
     "data": {
      "text/plain": [
       "<matplotlib.legend.Legend at 0x1b5c1a71250>"
      ]
     },
     "execution_count": 48,
     "metadata": {},
     "output_type": "execute_result"
    },
    {
     "data": {
      "image/png": "[encoded data removed]",
      "text/plain": [
       "<Figure size 1000x500 with 1 Axes>"
      ]
     },
     "metadata": {},
     "output_type": "display_data"
    }
   ],
   "source": [
    "sns.distplot(exp2.query('group==\"control\"')['events'], kde=False, label=\"control\")\n",
    "sns.distplot(exp2.query('group==\"test\"')['events'], kde=False, label=\"test\")\n",
    "plt.legend()"
   ]
  },
  {
   "cell_type": "code",
   "execution_count": 50,
   "id": "eecebccc",
   "metadata": {},
   "outputs": [
    {
     "name": "stderr",
     "output_type": "stream",
     "text": [
      "C:\\Users\\konst\\AppData\\Local\\Temp\\ipykernel_7764\\4084144660.py:1: UserWarning: \n",
      "\n",
      "`distplot` is a deprecated function and will be removed in seaborn v0.14.0.\n",
      "\n",
      "Please adapt your code to use either `displot` (a figure-level function with\n",
      "similar flexibility) or `histplot` (an axes-level function for histograms).\n",
      "\n",
      "For a guide to updating your code to use the new functions, please see\n",
      "https://gist.github.com/mwaskom/de44147ed2974457ad6372750bbe5751\n",
      "\n",
      "  sns.distplot(exp2.query('group==\"control\" & segment==\"low\"')['events'], kde=False, label=\"control\")\n",
      "C:\\Users\\konst\\AppData\\Local\\Temp\\ipykernel_7764\\4084144660.py:2: UserWarning: \n",
      "\n",
      "`distplot` is a deprecated function and will be removed in seaborn v0.14.0.\n",
      "\n",
      "Please adapt your code to use either `displot` (a figure-level function with\n",
      "similar flexibility) or `histplot` (an axes-level function for histograms).\n",
      "\n",
      "For a guide to updating your code to use the new functions, please see\n",
      "https://gist.github.com/mwaskom/de44147ed2974457ad6372750bbe5751\n",
      "\n",
      "  sns.distplot(exp2.query('group==\"test\" & segment==\"low\"')['events'], kde=False, label=\"test\")\n"
     ]
    },
    {
     "data": {
      "text/plain": [
       "<matplotlib.legend.Legend at 0x1b5c2235ad0>"
      ]
     },
     "execution_count": 50,
     "metadata": {},
     "output_type": "execute_result"
    },
    {
     "data": {
      "image/png": "[encoded data removed]",
      "text/plain": [
       "<Figure size 1000x500 with 1 Axes>"
      ]
     },
     "metadata": {},
     "output_type": "display_data"
    }
   ],
   "source": [
    "sns.distplot(exp2.query('group==\"control\" & segment==\"low\"')['events'], kde=False, label=\"control\")\n",
    "sns.distplot(exp2.query('group==\"test\" & segment==\"low\"')['events'], kde=False, label=\"test\")\n",
    "plt.legend()"
   ]
  },
  {
   "cell_type": "code",
   "execution_count": 51,
   "id": "02f9f245-7300-47dd-bd32-42b2c749b1bb",
   "metadata": {},
   "outputs": [
    {
     "name": "stderr",
     "output_type": "stream",
     "text": [
      "C:\\Users\\konst\\AppData\\Local\\Temp\\ipykernel_7764\\3037549525.py:1: UserWarning: \n",
      "\n",
      "`distplot` is a deprecated function and will be removed in seaborn v0.14.0.\n",
      "\n",
      "Please adapt your code to use either `displot` (a figure-level function with\n",
      "similar flexibility) or `histplot` (an axes-level function for histograms).\n",
      "\n",
      "For a guide to updating your code to use the new functions, please see\n",
      "https://gist.github.com/mwaskom/de44147ed2974457ad6372750bbe5751\n",
      "\n",
      "  sns.distplot(exp2.query('group==\"control\" & segment==\"high\"')['events'], kde=False, label=\"control\")\n",
      "C:\\Users\\konst\\AppData\\Local\\Temp\\ipykernel_7764\\3037549525.py:2: UserWarning: \n",
      "\n",
      "`distplot` is a deprecated function and will be removed in seaborn v0.14.0.\n",
      "\n",
      "Please adapt your code to use either `displot` (a figure-level function with\n",
      "similar flexibility) or `histplot` (an axes-level function for histograms).\n",
      "\n",
      "For a guide to updating your code to use the new functions, please see\n",
      "https://gist.github.com/mwaskom/de44147ed2974457ad6372750bbe5751\n",
      "\n",
      "  sns.distplot(exp2.query('group==\"test\" & segment==\"high\"')['events'], kde=False, label=\"test\")\n"
     ]
    },
    {
     "data": {
      "text/plain": [
       "<matplotlib.legend.Legend at 0x1b5bf1b9250>"
      ]
     },
     "execution_count": 51,
     "metadata": {},
     "output_type": "execute_result"
    },
    {
     "data": {
      "image/png": "[encoded data removed]",
      "text/plain": [
       "<Figure size 1000x500 with 1 Axes>"
      ]
     },
     "metadata": {},
     "output_type": "display_data"
    }
   ],
   "source": [
    "sns.distplot(exp2.query('group==\"control\" & segment==\"high\"')['events'], kde=False, label=\"control\")\n",
    "sns.distplot(exp2.query('group==\"test\" & segment==\"high\"')['events'], kde=False, label=\"test\")\n",
    "plt.legend()"
   ]
  },
  {
   "cell_type": "markdown",
   "id": "0700b06a",
   "metadata": {},
   "source": [
    "### 9"
   ]
  },
  {
   "cell_type": "markdown",
   "id": "b5b1a040",
   "metadata": {},
   "source": [
    "Посчитайте среднее, медиану и стандартное отклонение events в разбивке по группе и по сегменту пользователя. \n",
    "\n",
    "В качестве ответа укажите стандартное отклонение для пользователей из сегмента high и контрольной группы, с точностью до 2 знаков после точки."
   ]
  },
  {
   "cell_type": "code",
   "execution_count": 40,
   "id": "3a2b9049",
   "metadata": {},
   "outputs": [
    {
     "data": {
      "text/html": [
       "<div>\n",
       "<style scoped>\n",
       "    .dataframe tbody tr th:only-of-type {\n",
       "        vertical-align: middle;\n",
       "    }\n",
       "\n",
       "    .dataframe tbody tr th {\n",
       "        vertical-align: top;\n",
       "    }\n",
       "\n",
       "    .dataframe thead tr th {\n",
       "        text-align: left;\n",
       "    }\n",
       "</style>\n",
       "<table border=\"1\" class=\"dataframe\">\n",
       "  <thead>\n",
       "    <tr>\n",
       "      <th>group</th>\n",
       "      <th colspan=\"2\" halign=\"left\">control</th>\n",
       "      <th colspan=\"2\" halign=\"left\">test</th>\n",
       "    </tr>\n",
       "    <tr>\n",
       "      <th>segment</th>\n",
       "      <th>high</th>\n",
       "      <th>low</th>\n",
       "      <th>high</th>\n",
       "      <th>low</th>\n",
       "    </tr>\n",
       "  </thead>\n",
       "  <tbody>\n",
       "    <tr>\n",
       "      <th>count</th>\n",
       "      <td>10000.00</td>\n",
       "      <td>40000.00</td>\n",
       "      <td>10000.00</td>\n",
       "      <td>40000.00</td>\n",
       "    </tr>\n",
       "    <tr>\n",
       "      <th>mean</th>\n",
       "      <td>59.97</td>\n",
       "      <td>20.03</td>\n",
       "      <td>69.94</td>\n",
       "      <td>33.03</td>\n",
       "    </tr>\n",
       "    <tr>\n",
       "      <th>std</th>\n",
       "      <td>7.81</td>\n",
       "      <td>4.47</td>\n",
       "      <td>8.40</td>\n",
       "      <td>5.72</td>\n",
       "    </tr>\n",
       "    <tr>\n",
       "      <th>min</th>\n",
       "      <td>31.00</td>\n",
       "      <td>4.00</td>\n",
       "      <td>40.00</td>\n",
       "      <td>13.00</td>\n",
       "    </tr>\n",
       "    <tr>\n",
       "      <th>25%</th>\n",
       "      <td>55.00</td>\n",
       "      <td>17.00</td>\n",
       "      <td>64.00</td>\n",
       "      <td>29.00</td>\n",
       "    </tr>\n",
       "    <tr>\n",
       "      <th>50%</th>\n",
       "      <td>60.00</td>\n",
       "      <td>20.00</td>\n",
       "      <td>70.00</td>\n",
       "      <td>33.00</td>\n",
       "    </tr>\n",
       "    <tr>\n",
       "      <th>75%</th>\n",
       "      <td>65.00</td>\n",
       "      <td>23.00</td>\n",
       "      <td>76.00</td>\n",
       "      <td>37.00</td>\n",
       "    </tr>\n",
       "    <tr>\n",
       "      <th>max</th>\n",
       "      <td>89.00</td>\n",
       "      <td>41.00</td>\n",
       "      <td>102.00</td>\n",
       "      <td>59.00</td>\n",
       "    </tr>\n",
       "  </tbody>\n",
       "</table>\n",
       "</div>"
      ],
      "text/plain": [
       "group     control                test          \n",
       "segment      high       low      high       low\n",
       "count    10000.00  40000.00  10000.00  40000.00\n",
       "mean        59.97     20.03     69.94     33.03\n",
       "std          7.81      4.47      8.40      5.72\n",
       "min         31.00      4.00     40.00     13.00\n",
       "25%         55.00     17.00     64.00     29.00\n",
       "50%         60.00     20.00     70.00     33.00\n",
       "75%         65.00     23.00     76.00     37.00\n",
       "max         89.00     41.00    102.00     59.00"
      ]
     },
     "execution_count": 40,
     "metadata": {},
     "output_type": "execute_result"
    }
   ],
   "source": [
    "exp2.groupby(['group', 'segment'])['events'].describe().T.round(2)"
   ]
  },
  {
   "cell_type": "markdown",
   "id": "009ee130",
   "metadata": {},
   "source": [
    "### 10"
   ]
  },
  {
   "cell_type": "markdown",
   "id": "4a35823b",
   "metadata": {},
   "source": [
    "Почти у цели – осталось выбрать формулу для модели. Напомним, что мы хотим проверить эффект нескольких переменных – group и segment – на events, с взаимодействием факторов.\n",
    "\n",
    "Если вы прибегнете к statsmodels, то какую формулу используете?"
   ]
  },
  {
   "cell_type": "markdown",
   "id": "8f26e5a3",
   "metadata": {},
   "source": [
    "· events = segment + group  \n",
    "· events = segment + group + segment:group  \n",
    "__· events ~ segment + group + segment:group__  \n",
    "· events ~ segment + group  \n",
    "· events ~ segment, group"
   ]
  },
  {
   "cell_type": "markdown",
   "id": "4d1e1b06",
   "metadata": {},
   "source": [
    "Проведите тест (через anova_lm либо pg.anova), а затем используйте критерий Тьюки, чтобы понять между какими группами есть статистически значимые различия.\n",
    "\n",
    "В данном случае для последующих сравнений между группами можно проделать следующую операцию: соединить колонки group и segment в combination, чтобы потом передать в аргумент groups в MultiComparison либо pairwise_tukey:"
   ]
  },
  {
   "cell_type": "code",
   "execution_count": null,
   "id": "330291c0",
   "metadata": {},
   "outputs": [],
   "source": [
    "+-------+---------+-------------+  \n",
    "| group | segment | combination |  \n",
    "+-------+---------+-------------+  \n",
    "| test  | high    | test / high |  \n",
    "| test  | high    | test / high |  \n",
    "+-------+---------+-------------+  "
   ]
  },
  {
   "cell_type": "code",
   "execution_count": 52,
   "id": "b5c2cd7a",
   "metadata": {},
   "outputs": [],
   "source": [
    "model = smf.ols(formula='events ~ segment + group + segment:group', data=exp2).fit()\n",
    "aov_table = anova_lm(model, typ=2)"
   ]
  },
  {
   "cell_type": "code",
   "execution_count": 53,
   "id": "10f07782",
   "metadata": {},
   "outputs": [
    {
     "name": "stdout",
     "output_type": "stream",
     "text": [
      "                    sum_sq       df          F  PR(>F)\n",
      "segment        23624796.65      1.0  689756.38     0.0\n",
      "group           3837195.41      1.0  112031.86     0.0\n",
      "segment:group     36642.44      1.0    1069.82     0.0\n",
      "Residual        3424955.89  99996.0        NaN     NaN\n"
     ]
    }
   ],
   "source": [
    "print(round(aov_table, 2))"
   ]
  },
  {
   "cell_type": "code",
   "execution_count": 57,
   "id": "75c4ba81",
   "metadata": {},
   "outputs": [
    {
     "name": "stdout",
     "output_type": "stream",
     "text": [
      "            Source           SS       DF           MS          F  p-unc   np2\n",
      "0            group   3837195.41      1.0   3837195.41  112031.86    0.0  0.53\n",
      "1          segment  23624796.65      1.0  23624796.65  689756.38    0.0  0.87\n",
      "2  group * segment     36642.44      1.0     36642.44    1069.82    0.0  0.01\n",
      "3         Residual   3424955.89  99996.0        34.25        NaN    NaN   NaN\n"
     ]
    }
   ],
   "source": [
    "print(round(pg.anova(data=exp2, dv=\"events\", between=[\"group\",'segment']), 2))"
   ]
  },
  {
   "cell_type": "markdown",
   "id": "e2dc563d-fb88-47a8-bab1-5310c95e8a40",
   "metadata": {},
   "source": [
    "**np2 gпоказывает большее влияние сегмента на клики**"
   ]
  },
  {
   "cell_type": "code",
   "execution_count": 6,
   "id": "de2e62f9-30f6-41a3-b6f2-298a97ecb150",
   "metadata": {},
   "outputs": [
    {
     "data": {
      "text/html": [
       "<div>\n",
       "<style scoped>\n",
       "    .dataframe tbody tr th:only-of-type {\n",
       "        vertical-align: middle;\n",
       "    }\n",
       "\n",
       "    .dataframe tbody tr th {\n",
       "        vertical-align: top;\n",
       "    }\n",
       "\n",
       "    .dataframe thead th {\n",
       "        text-align: right;\n",
       "    }\n",
       "</style>\n",
       "<table border=\"1\" class=\"dataframe\">\n",
       "  <thead>\n",
       "    <tr style=\"text-align: right;\">\n",
       "      <th></th>\n",
       "      <th>A</th>\n",
       "      <th>B</th>\n",
       "      <th>mean(A)</th>\n",
       "      <th>mean(B)</th>\n",
       "      <th>diff</th>\n",
       "      <th>se</th>\n",
       "      <th>T</th>\n",
       "      <th>p-tukey</th>\n",
       "      <th>hedges</th>\n",
       "    </tr>\n",
       "  </thead>\n",
       "  <tbody>\n",
       "    <tr>\n",
       "      <th>0</th>\n",
       "      <td>control \\ high</td>\n",
       "      <td>control \\ low</td>\n",
       "      <td>59.970800</td>\n",
       "      <td>20.031575</td>\n",
       "      <td>39.939225</td>\n",
       "      <td>0.065432</td>\n",
       "      <td>610.391461</td>\n",
       "      <td>0.0</td>\n",
       "      <td>7.521612</td>\n",
       "    </tr>\n",
       "    <tr>\n",
       "      <th>1</th>\n",
       "      <td>control \\ high</td>\n",
       "      <td>test \\ high</td>\n",
       "      <td>59.970800</td>\n",
       "      <td>69.938500</td>\n",
       "      <td>-9.967700</td>\n",
       "      <td>0.082766</td>\n",
       "      <td>-120.432523</td>\n",
       "      <td>0.0</td>\n",
       "      <td>-1.228989</td>\n",
       "    </tr>\n",
       "    <tr>\n",
       "      <th>2</th>\n",
       "      <td>control \\ high</td>\n",
       "      <td>test \\ low</td>\n",
       "      <td>59.970800</td>\n",
       "      <td>33.025925</td>\n",
       "      <td>26.944875</td>\n",
       "      <td>0.065432</td>\n",
       "      <td>411.798717</td>\n",
       "      <td>0.0</td>\n",
       "      <td>4.350026</td>\n",
       "    </tr>\n",
       "    <tr>\n",
       "      <th>3</th>\n",
       "      <td>control \\ low</td>\n",
       "      <td>test \\ high</td>\n",
       "      <td>20.031575</td>\n",
       "      <td>69.938500</td>\n",
       "      <td>-49.906925</td>\n",
       "      <td>0.065432</td>\n",
       "      <td>-762.727892</td>\n",
       "      <td>0.0</td>\n",
       "      <td>-9.091140</td>\n",
       "    </tr>\n",
       "    <tr>\n",
       "      <th>4</th>\n",
       "      <td>control \\ low</td>\n",
       "      <td>test \\ low</td>\n",
       "      <td>20.031575</td>\n",
       "      <td>33.025925</td>\n",
       "      <td>-12.994350</td>\n",
       "      <td>0.041383</td>\n",
       "      <td>-314.002699</td>\n",
       "      <td>0.0</td>\n",
       "      <td>-2.530414</td>\n",
       "    </tr>\n",
       "    <tr>\n",
       "      <th>5</th>\n",
       "      <td>test \\ high</td>\n",
       "      <td>test \\ low</td>\n",
       "      <td>69.938500</td>\n",
       "      <td>33.025925</td>\n",
       "      <td>36.912575</td>\n",
       "      <td>0.065432</td>\n",
       "      <td>564.135148</td>\n",
       "      <td>0.0</td>\n",
       "      <td>5.814008</td>\n",
       "    </tr>\n",
       "  </tbody>\n",
       "</table>\n",
       "</div>"
      ],
      "text/plain": [
       "                A              B    mean(A)    mean(B)       diff        se  \\\n",
       "0  control \\ high  control \\ low  59.970800  20.031575  39.939225  0.065432   \n",
       "1  control \\ high    test \\ high  59.970800  69.938500  -9.967700  0.082766   \n",
       "2  control \\ high     test \\ low  59.970800  33.025925  26.944875  0.065432   \n",
       "3   control \\ low    test \\ high  20.031575  69.938500 -49.906925  0.065432   \n",
       "4   control \\ low     test \\ low  20.031575  33.025925 -12.994350  0.041383   \n",
       "5     test \\ high     test \\ low  69.938500  33.025925  36.912575  0.065432   \n",
       "\n",
       "            T  p-tukey    hedges  \n",
       "0  610.391461      0.0  7.521612  \n",
       "1 -120.432523      0.0 -1.228989  \n",
       "2  411.798717      0.0  4.350026  \n",
       "3 -762.727892      0.0 -9.091140  \n",
       "4 -314.002699      0.0 -2.530414  \n",
       "5  564.135148      0.0  5.814008  "
      ]
     },
     "execution_count": 6,
     "metadata": {},
     "output_type": "execute_result"
    }
   ],
   "source": [
    "exp2['combination'] = exp2['group'] + ' \\\\ ' + exp2['segment']\n",
    "pg.pairwise_tukey(data=exp2, dv='events', between=\"combination\")"
   ]
  },
  {
   "cell_type": "markdown",
   "id": "6ba1d2e6",
   "metadata": {},
   "source": [
    "Между какими группами были обнаружены статистически значимые различия? Выберите верные утверждения:\n",
    "\n",
    "· Для обоих сегментов показатели статистически значимо _уменьшились_ по сравнению с контрольной группой  \n",
    "__· Для обоих сегментов показатели статистически значимо _увеличились_ по сравнению с контрольной группой__  \n",
    "· Разница между значением у тестовой группы сегмента low и контрольной группой этого же сегмента равна примерно 36  \n",
    "__· Разница между значением у тестовой группы сегмента low и контрольной группой этого же сегмента равна примерно 13__    \n",
    "__· Разница между control/high и test/high составила около 10__  \n",
    "· Различий совсем не оказалось :("
   ]
  },
  {
   "cell_type": "markdown",
   "id": "66f6047a",
   "metadata": {},
   "source": [
    "### 11"
   ]
  },
  {
   "cell_type": "markdown",
   "id": "8abb1efb",
   "metadata": {},
   "source": [
    "Визуализируйте результаты теста и заполните пропуски:\n",
    "    \n",
    "Фактор group оказался __ЗНАЧИМЫМ__, фактор segment – __ЗНАЧИМЫМ__, их взаимодействие – __ЗНАЧИМО__. Судя по графику, для всех групп среднее значение events __УВЕЛИЧИЛОСЬ__, поэтому решение: __ВЫКАТЫВАЕМ НОВУЮ ВЕРСИЮ__."
   ]
  },
  {
   "cell_type": "code",
   "execution_count": 50,
   "id": "6d83d585",
   "metadata": {},
   "outputs": [
    {
     "data": {
      "image/png": "[encoded data removed]",
      "text/plain": [
       "<Figure size 1152x432 with 1 Axes>"
      ]
     },
     "metadata": {},
     "output_type": "display_data"
    }
   ],
   "source": [
    "sns.pointplot(x = 'group', y = 'events', hue = 'segment', data = df2, capsize = .1)\n",
    "plt.xlabel('Группа')\n",
    "plt.ylabel('Число покупок')\n",
    "plt.show()"
   ]
  },
  {
   "cell_type": "code",
   "execution_count": 52,
   "id": "0a0f6329",
   "metadata": {},
   "outputs": [
    {
     "data": {
      "image/png": "[encoded data removed]",
      "text/plain": [
       "<Figure size 1152x432 with 1 Axes>"
      ]
     },
     "metadata": {},
     "output_type": "display_data"
    }
   ],
   "source": [
    "sns.boxplot(x = 'group', y = 'events', hue = 'segment', data = df2)\n",
    "plt.xlabel('Группа')\n",
    "plt.ylabel('Число покупок')\n",
    "plt.show()"
   ]
  },
  {
   "cell_type": "code",
   "execution_count": null,
   "id": "f08c8eaf",
   "metadata": {},
   "outputs": [],
   "source": []
  }
 ],
 "metadata": {
  "kernelspec": {
   "display_name": "Python 3 (ipykernel)",
   "language": "python",
   "name": "python3"
  },
  "language_info": {
   "codemirror_mode": {
    "name": "ipython",
    "version": 3
   },
   "file_extension": ".py",
   "mimetype": "text/x-python",
   "name": "python",
   "nbconvert_exporter": "python",
   "pygments_lexer": "ipython3",
   "version": "3.11.9"
  }
 },
 "nbformat": 4,
 "nbformat_minor": 5
}
